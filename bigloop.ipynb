{
 "metadata": {
  "language_info": {
   "codemirror_mode": {
    "name": "ipython",
    "version": 3
   },
   "file_extension": ".py",
   "mimetype": "text/x-python",
   "name": "python",
   "nbconvert_exporter": "python",
   "pygments_lexer": "ipython3",
   "version": "3.6.10-final"
  },
  "orig_nbformat": 2,
  "kernelspec": {
   "name": "python_defaultSpec_1600045779519",
   "display_name": "Python 3.6.10 64-bit ('PythonDataViz': conda)"
  }
 },
 "nbformat": 4,
 "nbformat_minor": 2,
 "cells": [
  {
   "cell_type": "code",
   "execution_count": 1,
   "metadata": {},
   "outputs": [],
   "source": [
    "import pandas as pd"
   ]
  },
  {
   "cell_type": "code",
   "execution_count": 2,
   "metadata": {},
   "outputs": [
    {
     "output_type": "execute_result",
     "data": {
      "text/plain": "      found     occ10   occindv occstatus    occtag prestg10 prestg105plus  \\\n0  not foun  retail s       IAP  not foun  not foun       31            18   \n1     found  retail s  verbatim  found, c     found       31            18   \n2     found  pipelaye  verbatim  found, c     found       43            50   \n3     found  preschoo  verbatim  found, c     found       53            68   \n4     found  sewing m  verbatim  found, c     found       32            22   \n\n    indus10 indstatus    indtag  ... old10 old13 relate10 relate13 relhhd10  \\\n0  hardware  not foun  not foun  ...   IAP   IAP      IAP      IAP      IAP   \n1  clothing  found, c     found  ...   IAP   IAP      IAP      IAP      IAP   \n2  petroleu  found, c     found  ...   IAP   IAP      IAP      IAP      IAP   \n3  child da  found, c     found  ...   IAP   IAP      IAP      IAP      IAP   \n4   cut and  found, c     found  ...   IAP   IAP      IAP      IAP      IAP   \n\n  relhhd13 where11 where6     death index1  \n0      IAP     IAP    IAP  possibly      0  \n1      IAP     IAP    IAP  possibly      1  \n2      IAP     IAP    IAP  possibly      2  \n3      IAP     IAP    IAP  possibly      3  \n4      IAP     IAP    IAP  possibly      4  \n\n[5 rows x 1116 columns]",
      "text/html": "<div>\n<style scoped>\n    .dataframe tbody tr th:only-of-type {\n        vertical-align: middle;\n    }\n\n    .dataframe tbody tr th {\n        vertical-align: top;\n    }\n\n    .dataframe thead th {\n        text-align: right;\n    }\n</style>\n<table border=\"1\" class=\"dataframe\">\n  <thead>\n    <tr style=\"text-align: right;\">\n      <th></th>\n      <th>found</th>\n      <th>occ10</th>\n      <th>occindv</th>\n      <th>occstatus</th>\n      <th>occtag</th>\n      <th>prestg10</th>\n      <th>prestg105plus</th>\n      <th>indus10</th>\n      <th>indstatus</th>\n      <th>indtag</th>\n      <th>...</th>\n      <th>old10</th>\n      <th>old13</th>\n      <th>relate10</th>\n      <th>relate13</th>\n      <th>relhhd10</th>\n      <th>relhhd13</th>\n      <th>where11</th>\n      <th>where6</th>\n      <th>death</th>\n      <th>index1</th>\n    </tr>\n  </thead>\n  <tbody>\n    <tr>\n      <th>0</th>\n      <td>not foun</td>\n      <td>retail s</td>\n      <td>IAP</td>\n      <td>not foun</td>\n      <td>not foun</td>\n      <td>31</td>\n      <td>18</td>\n      <td>hardware</td>\n      <td>not foun</td>\n      <td>not foun</td>\n      <td>...</td>\n      <td>IAP</td>\n      <td>IAP</td>\n      <td>IAP</td>\n      <td>IAP</td>\n      <td>IAP</td>\n      <td>IAP</td>\n      <td>IAP</td>\n      <td>IAP</td>\n      <td>possibly</td>\n      <td>0</td>\n    </tr>\n    <tr>\n      <th>1</th>\n      <td>found</td>\n      <td>retail s</td>\n      <td>verbatim</td>\n      <td>found, c</td>\n      <td>found</td>\n      <td>31</td>\n      <td>18</td>\n      <td>clothing</td>\n      <td>found, c</td>\n      <td>found</td>\n      <td>...</td>\n      <td>IAP</td>\n      <td>IAP</td>\n      <td>IAP</td>\n      <td>IAP</td>\n      <td>IAP</td>\n      <td>IAP</td>\n      <td>IAP</td>\n      <td>IAP</td>\n      <td>possibly</td>\n      <td>1</td>\n    </tr>\n    <tr>\n      <th>2</th>\n      <td>found</td>\n      <td>pipelaye</td>\n      <td>verbatim</td>\n      <td>found, c</td>\n      <td>found</td>\n      <td>43</td>\n      <td>50</td>\n      <td>petroleu</td>\n      <td>found, c</td>\n      <td>found</td>\n      <td>...</td>\n      <td>IAP</td>\n      <td>IAP</td>\n      <td>IAP</td>\n      <td>IAP</td>\n      <td>IAP</td>\n      <td>IAP</td>\n      <td>IAP</td>\n      <td>IAP</td>\n      <td>possibly</td>\n      <td>2</td>\n    </tr>\n    <tr>\n      <th>3</th>\n      <td>found</td>\n      <td>preschoo</td>\n      <td>verbatim</td>\n      <td>found, c</td>\n      <td>found</td>\n      <td>53</td>\n      <td>68</td>\n      <td>child da</td>\n      <td>found, c</td>\n      <td>found</td>\n      <td>...</td>\n      <td>IAP</td>\n      <td>IAP</td>\n      <td>IAP</td>\n      <td>IAP</td>\n      <td>IAP</td>\n      <td>IAP</td>\n      <td>IAP</td>\n      <td>IAP</td>\n      <td>possibly</td>\n      <td>3</td>\n    </tr>\n    <tr>\n      <th>4</th>\n      <td>found</td>\n      <td>sewing m</td>\n      <td>verbatim</td>\n      <td>found, c</td>\n      <td>found</td>\n      <td>32</td>\n      <td>22</td>\n      <td>cut and</td>\n      <td>found, c</td>\n      <td>found</td>\n      <td>...</td>\n      <td>IAP</td>\n      <td>IAP</td>\n      <td>IAP</td>\n      <td>IAP</td>\n      <td>IAP</td>\n      <td>IAP</td>\n      <td>IAP</td>\n      <td>IAP</td>\n      <td>possibly</td>\n      <td>4</td>\n    </tr>\n  </tbody>\n</table>\n<p>5 rows × 1116 columns</p>\n</div>"
     },
     "metadata": {},
     "execution_count": 2
    }
   ],
   "source": [
    "#read in the data\n",
    "gss=pd.read_csv(\"GSS_1996.csv\", encoding=\"latin1\")\n",
    "gss['index1'] = gss.index\n",
    "gss.head()"
   ]
  },
  {
   "cell_type": "code",
   "execution_count": null,
   "metadata": {},
   "outputs": [],
   "source": [
    "#remove and document null values\n",
    "#no answer\n",
    "#not asked to this participant (didn't recall angry event)\n",
    "#null value (NA)\n",
    "#Don't Know (participant doesn't know)"
   ]
  }
 ]
}