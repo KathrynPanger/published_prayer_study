{
 "metadata": {
  "language_info": {
   "codemirror_mode": {
    "name": "ipython",
    "version": 3
   },
   "file_extension": ".py",
   "mimetype": "text/x-python",
   "name": "python",
   "nbconvert_exporter": "python",
   "pygments_lexer": "ipython3",
   "version": "3.8.5-final"
  },
  "orig_nbformat": 2,
  "kernelspec": {
   "name": "python3",
   "display_name": "Python 3.8.5 64-bit ('base': conda)",
   "metadata": {
    "interpreter": {
     "hash": "9a492a932a5bed98d6f8e1b5f1ae1d46b2b5df4ebd9e59fb2d1181a1f217f2fd"
    }
   }
  }
 },
 "nbformat": 4,
 "nbformat_minor": 2,
 "cells": [
  {
   "cell_type": "code",
   "execution_count": 2,
   "metadata": {},
   "outputs": [],
   "source": [
    "from functions import linregress\n",
    "import pandas as pd"
   ]
  },
  {
   "cell_type": "code",
   "execution_count": 4,
   "metadata": {},
   "outputs": [],
   "source": [
    "gss = pd.read_csv(\"../data/gss_recoded.csv\")\n",
    "gss_raw=pd.read_csv(\"../data/gss_converted.csv\")"
   ]
  },
  {
   "cell_type": "code",
   "execution_count": 7,
   "metadata": {},
   "outputs": [
    {
     "output_type": "execute_result",
     "data": {
      "text/plain": [
       "0       0.0\n",
       "1       0.0\n",
       "2       0.0\n",
       "3       0.0\n",
       "4       0.0\n",
       "       ... \n",
       "1109    1.0\n",
       "1110    0.0\n",
       "1111    1.0\n",
       "1112    0.0\n",
       "1113    0.0\n",
       "Name: pray_anger, Length: 1114, dtype: float64"
      ]
     },
     "metadata": {},
     "execution_count": 7
    }
   ],
   "source": []
  },
  {
   "source": [
    "Create a dataset for exploratory analysis which only contains variables used in our model and is not imputed"
   ],
   "cell_type": "markdown",
   "metadata": {}
  },
  {
   "cell_type": "code",
   "execution_count": 38,
   "metadata": {},
   "outputs": [],
   "source": [
    "#Manually add dv to varlist\n",
    "varlist.append(\"pray_anger\")"
   ]
  },
  {
   "cell_type": "code",
   "execution_count": 183,
   "metadata": {},
   "outputs": [],
   "source": [
    "def summarize(*args):\n",
    "    #dependencies\n",
    "    import pandas as pd\n",
    "    import matplotlib.pyplot as plt\n",
    "    import numpy as np\n",
    "    #define arguments\n",
    "    dataframe=args[0]\n",
    "    variable= args[1]\n",
    "    dfvar=dataframe[variable]\n",
    "    description=dfvar.describe()\n",
    "    print(description)\n",
    "    print(\"\\n\")\n",
    "    if dfvar.dtype == \"int64\":\n",
    "        cats=set(dfvar)\n",
    "        print(\"Obs per category\")\n",
    "        print(\"------------------\")\n",
    "        for item in cats:\n",
    "           count=len(dataframe.loc[dfvar == item])\n",
    "           percent=round(count/len(dfvar)*100, 2)\n",
    "           print(f\"{item}-> {count} ({percent}%)\")\n",
    "        values=list(set(dfvar))\n",
    "        marks= len(values)\n",
    "        hist=plt.hist(dfvar, bins=len(values))\n",
    "        plt.xticks(ticks=values)\n",
    "        plt.savefig(f\"../figures/Histogram_{variable}.png\")\n",
    "        plt.show()\n",
    "        print(hist)\n",
    "    else:\n",
    "        hist=plt.hist(dfvar, bins=10)\n",
    "        plt.savefig(f\"../figures/Histogram_{variable}.png\")\n",
    "        plt.show()\n",
    "        print(hist)\n"
   ]
  },
  {
   "cell_type": "code",
   "execution_count": 185,
   "metadata": {},
   "outputs": [
    {
     "output_type": "stream",
     "name": "stdout",
     "text": [
      "count    2904.000000\nmean        0.992769\nstd         0.084744\nmin         0.000000\n25%         1.000000\n50%         1.000000\n75%         1.000000\nmax         1.000000\nName: found, dtype: float64\n\n\nObs per category\n------------------\n0-> 21 (0.72%)\n1-> 2883 (99.28%)\n"
     ]
    },
    {
     "output_type": "display_data",
     "data": {
      "text/plain": "<Figure size 432x288 with 1 Axes>",
      "image/svg+xml": "<?xml version=\"1.0\" encoding=\"utf-8\" standalone=\"no\"?>\n<!DOCTYPE svg PUBLIC \"-//W3C//DTD SVG 1.1//EN\"\n  \"http://www.w3.org/Graphics/SVG/1.1/DTD/svg11.dtd\">\n<!-- Created with matplotlib (https://matplotlib.org/) -->\n<svg height=\"250.367161pt\" version=\"1.1\" viewBox=\"0 0 381.65 250.367161\" width=\"381.65pt\" xmlns=\"http://www.w3.org/2000/svg\" xmlns:xlink=\"http://www.w3.org/1999/xlink\">\n <metadata>\n  <rdf:RDF xmlns:cc=\"http://creativecommons.org/ns#\" xmlns:dc=\"http://purl.org/dc/elements/1.1/\" xmlns:rdf=\"http://www.w3.org/1999/02/22-rdf-syntax-ns#\">\n   <cc:Work>\n    <dc:type rdf:resource=\"http://purl.org/dc/dcmitype/StillImage\"/>\n    <dc:date>2021-03-19T17:39:42.106007</dc:date>\n    <dc:format>image/svg+xml</dc:format>\n    <dc:creator>\n     <cc:Agent>\n      <dc:title>Matplotlib v3.3.2, https://matplotlib.org/</dc:title>\n     </cc:Agent>\n    </dc:creator>\n   </cc:Work>\n  </rdf:RDF>\n </metadata>\n <defs>\n  <style type=\"text/css\">*{stroke-linecap:butt;stroke-linejoin:round;}</style>\n </defs>\n <g id=\"figure_1\">\n  <g id=\"patch_1\">\n   <path d=\"M -0 250.367161 \nL 381.65 250.367161 \nL 381.65 0 \nL -0 0 \nz\n\" style=\"fill:none;\"/>\n  </g>\n  <g id=\"axes_1\">\n   <g id=\"patch_2\">\n    <path d=\"M 39.65 226.489036 \nL 374.45 226.489036 \nL 374.45 9.049036 \nL 39.65 9.049036 \nz\n\" style=\"fill:#ffffff;\"/>\n   </g>\n   <g id=\"patch_3\">\n    <path clip-path=\"url(#p220f1454df)\" d=\"M 54.868182 226.489036 \nL 207.05 226.489036 \nL 207.05 224.980607 \nL 54.868182 224.980607 \nz\n\" style=\"fill:#1f77b4;\"/>\n   </g>\n   <g id=\"patch_4\">\n    <path clip-path=\"url(#p220f1454df)\" d=\"M 207.05 226.489036 \nL 359.231818 226.489036 \nL 359.231818 19.403322 \nL 207.05 19.403322 \nz\n\" style=\"fill:#1f77b4;\"/>\n   </g>\n   <g id=\"matplotlib.axis_1\">\n    <g id=\"xtick_1\">\n     <g id=\"line2d_1\">\n      <defs>\n       <path d=\"M 0 0 \nL 0 3.5 \n\" id=\"m31d59e1cd2\" style=\"stroke:#000000;stroke-width:0.8;\"/>\n      </defs>\n      <g>\n       <use style=\"stroke:#000000;stroke-width:0.8;\" x=\"54.868182\" xlink:href=\"#m31d59e1cd2\" y=\"226.489036\"/>\n      </g>\n     </g>\n     <g id=\"text_1\">\n      <!-- 0 -->\n      <g transform=\"translate(51.686932 241.087473)scale(0.1 -0.1)\">\n       <defs>\n        <path d=\"M 31.78125 66.40625 \nQ 24.171875 66.40625 20.328125 58.90625 \nQ 16.5 51.421875 16.5 36.375 \nQ 16.5 21.390625 20.328125 13.890625 \nQ 24.171875 6.390625 31.78125 6.390625 \nQ 39.453125 6.390625 43.28125 13.890625 \nQ 47.125 21.390625 47.125 36.375 \nQ 47.125 51.421875 43.28125 58.90625 \nQ 39.453125 66.40625 31.78125 66.40625 \nz\nM 31.78125 74.21875 \nQ 44.046875 74.21875 50.515625 64.515625 \nQ 56.984375 54.828125 56.984375 36.375 \nQ 56.984375 17.96875 50.515625 8.265625 \nQ 44.046875 -1.421875 31.78125 -1.421875 \nQ 19.53125 -1.421875 13.0625 8.265625 \nQ 6.59375 17.96875 6.59375 36.375 \nQ 6.59375 54.828125 13.0625 64.515625 \nQ 19.53125 74.21875 31.78125 74.21875 \nz\n\" id=\"DejaVuSans-48\"/>\n       </defs>\n       <use xlink:href=\"#DejaVuSans-48\"/>\n      </g>\n     </g>\n    </g>\n    <g id=\"xtick_2\">\n     <g id=\"line2d_2\">\n      <g>\n       <use style=\"stroke:#000000;stroke-width:0.8;\" x=\"359.231818\" xlink:href=\"#m31d59e1cd2\" y=\"226.489036\"/>\n      </g>\n     </g>\n     <g id=\"text_2\">\n      <!-- 1 -->\n      <g transform=\"translate(356.050568 241.087473)scale(0.1 -0.1)\">\n       <defs>\n        <path d=\"M 12.40625 8.296875 \nL 28.515625 8.296875 \nL 28.515625 63.921875 \nL 10.984375 60.40625 \nL 10.984375 69.390625 \nL 28.421875 72.90625 \nL 38.28125 72.90625 \nL 38.28125 8.296875 \nL 54.390625 8.296875 \nL 54.390625 0 \nL 12.40625 0 \nz\n\" id=\"DejaVuSans-49\"/>\n       </defs>\n       <use xlink:href=\"#DejaVuSans-49\"/>\n      </g>\n     </g>\n    </g>\n   </g>\n   <g id=\"matplotlib.axis_2\">\n    <g id=\"ytick_1\">\n     <g id=\"line2d_3\">\n      <defs>\n       <path d=\"M 0 0 \nL -3.5 0 \n\" id=\"m18a2e4cd81\" style=\"stroke:#000000;stroke-width:0.8;\"/>\n      </defs>\n      <g>\n       <use style=\"stroke:#000000;stroke-width:0.8;\" x=\"39.65\" xlink:href=\"#m18a2e4cd81\" y=\"226.489036\"/>\n      </g>\n     </g>\n     <g id=\"text_3\">\n      <!-- 0 -->\n      <g transform=\"translate(26.2875 230.288255)scale(0.1 -0.1)\">\n       <use xlink:href=\"#DejaVuSans-48\"/>\n      </g>\n     </g>\n    </g>\n    <g id=\"ytick_2\">\n     <g id=\"line2d_4\">\n      <g>\n       <use style=\"stroke:#000000;stroke-width:0.8;\" x=\"39.65\" xlink:href=\"#m18a2e4cd81\" y=\"190.574066\"/>\n      </g>\n     </g>\n     <g id=\"text_4\">\n      <!-- 500 -->\n      <g transform=\"translate(13.5625 194.373285)scale(0.1 -0.1)\">\n       <defs>\n        <path d=\"M 10.796875 72.90625 \nL 49.515625 72.90625 \nL 49.515625 64.59375 \nL 19.828125 64.59375 \nL 19.828125 46.734375 \nQ 21.96875 47.46875 24.109375 47.828125 \nQ 26.265625 48.1875 28.421875 48.1875 \nQ 40.625 48.1875 47.75 41.5 \nQ 54.890625 34.8125 54.890625 23.390625 \nQ 54.890625 11.625 47.5625 5.09375 \nQ 40.234375 -1.421875 26.90625 -1.421875 \nQ 22.3125 -1.421875 17.546875 -0.640625 \nQ 12.796875 0.140625 7.71875 1.703125 \nL 7.71875 11.625 \nQ 12.109375 9.234375 16.796875 8.0625 \nQ 21.484375 6.890625 26.703125 6.890625 \nQ 35.15625 6.890625 40.078125 11.328125 \nQ 45.015625 15.765625 45.015625 23.390625 \nQ 45.015625 31 40.078125 35.4375 \nQ 35.15625 39.890625 26.703125 39.890625 \nQ 22.75 39.890625 18.8125 39.015625 \nQ 14.890625 38.140625 10.796875 36.28125 \nz\n\" id=\"DejaVuSans-53\"/>\n       </defs>\n       <use xlink:href=\"#DejaVuSans-53\"/>\n       <use x=\"63.623047\" xlink:href=\"#DejaVuSans-48\"/>\n       <use x=\"127.246094\" xlink:href=\"#DejaVuSans-48\"/>\n      </g>\n     </g>\n    </g>\n    <g id=\"ytick_3\">\n     <g id=\"line2d_5\">\n      <g>\n       <use style=\"stroke:#000000;stroke-width:0.8;\" x=\"39.65\" xlink:href=\"#m18a2e4cd81\" y=\"154.659097\"/>\n      </g>\n     </g>\n     <g id=\"text_5\">\n      <!-- 1000 -->\n      <g transform=\"translate(7.2 158.458316)scale(0.1 -0.1)\">\n       <use xlink:href=\"#DejaVuSans-49\"/>\n       <use x=\"63.623047\" xlink:href=\"#DejaVuSans-48\"/>\n       <use x=\"127.246094\" xlink:href=\"#DejaVuSans-48\"/>\n       <use x=\"190.869141\" xlink:href=\"#DejaVuSans-48\"/>\n      </g>\n     </g>\n    </g>\n    <g id=\"ytick_4\">\n     <g id=\"line2d_6\">\n      <g>\n       <use style=\"stroke:#000000;stroke-width:0.8;\" x=\"39.65\" xlink:href=\"#m18a2e4cd81\" y=\"118.744127\"/>\n      </g>\n     </g>\n     <g id=\"text_6\">\n      <!-- 1500 -->\n      <g transform=\"translate(7.2 122.543346)scale(0.1 -0.1)\">\n       <use xlink:href=\"#DejaVuSans-49\"/>\n       <use x=\"63.623047\" xlink:href=\"#DejaVuSans-53\"/>\n       <use x=\"127.246094\" xlink:href=\"#DejaVuSans-48\"/>\n       <use x=\"190.869141\" xlink:href=\"#DejaVuSans-48\"/>\n      </g>\n     </g>\n    </g>\n    <g id=\"ytick_5\">\n     <g id=\"line2d_7\">\n      <g>\n       <use style=\"stroke:#000000;stroke-width:0.8;\" x=\"39.65\" xlink:href=\"#m18a2e4cd81\" y=\"82.829158\"/>\n      </g>\n     </g>\n     <g id=\"text_7\">\n      <!-- 2000 -->\n      <g transform=\"translate(7.2 86.628377)scale(0.1 -0.1)\">\n       <defs>\n        <path d=\"M 19.1875 8.296875 \nL 53.609375 8.296875 \nL 53.609375 0 \nL 7.328125 0 \nL 7.328125 8.296875 \nQ 12.9375 14.109375 22.625 23.890625 \nQ 32.328125 33.6875 34.8125 36.53125 \nQ 39.546875 41.84375 41.421875 45.53125 \nQ 43.3125 49.21875 43.3125 52.78125 \nQ 43.3125 58.59375 39.234375 62.25 \nQ 35.15625 65.921875 28.609375 65.921875 \nQ 23.96875 65.921875 18.8125 64.3125 \nQ 13.671875 62.703125 7.8125 59.421875 \nL 7.8125 69.390625 \nQ 13.765625 71.78125 18.9375 73 \nQ 24.125 74.21875 28.421875 74.21875 \nQ 39.75 74.21875 46.484375 68.546875 \nQ 53.21875 62.890625 53.21875 53.421875 \nQ 53.21875 48.921875 51.53125 44.890625 \nQ 49.859375 40.875 45.40625 35.40625 \nQ 44.1875 33.984375 37.640625 27.21875 \nQ 31.109375 20.453125 19.1875 8.296875 \nz\n\" id=\"DejaVuSans-50\"/>\n       </defs>\n       <use xlink:href=\"#DejaVuSans-50\"/>\n       <use x=\"63.623047\" xlink:href=\"#DejaVuSans-48\"/>\n       <use x=\"127.246094\" xlink:href=\"#DejaVuSans-48\"/>\n       <use x=\"190.869141\" xlink:href=\"#DejaVuSans-48\"/>\n      </g>\n     </g>\n    </g>\n    <g id=\"ytick_6\">\n     <g id=\"line2d_8\">\n      <g>\n       <use style=\"stroke:#000000;stroke-width:0.8;\" x=\"39.65\" xlink:href=\"#m18a2e4cd81\" y=\"46.914188\"/>\n      </g>\n     </g>\n     <g id=\"text_8\">\n      <!-- 2500 -->\n      <g transform=\"translate(7.2 50.713407)scale(0.1 -0.1)\">\n       <use xlink:href=\"#DejaVuSans-50\"/>\n       <use x=\"63.623047\" xlink:href=\"#DejaVuSans-53\"/>\n       <use x=\"127.246094\" xlink:href=\"#DejaVuSans-48\"/>\n       <use x=\"190.869141\" xlink:href=\"#DejaVuSans-48\"/>\n      </g>\n     </g>\n    </g>\n    <g id=\"ytick_7\">\n     <g id=\"line2d_9\">\n      <g>\n       <use style=\"stroke:#000000;stroke-width:0.8;\" x=\"39.65\" xlink:href=\"#m18a2e4cd81\" y=\"10.999219\"/>\n      </g>\n     </g>\n     <g id=\"text_9\">\n      <!-- 3000 -->\n      <g transform=\"translate(7.2 14.798437)scale(0.1 -0.1)\">\n       <defs>\n        <path d=\"M 40.578125 39.3125 \nQ 47.65625 37.796875 51.625 33 \nQ 55.609375 28.21875 55.609375 21.1875 \nQ 55.609375 10.40625 48.1875 4.484375 \nQ 40.765625 -1.421875 27.09375 -1.421875 \nQ 22.515625 -1.421875 17.65625 -0.515625 \nQ 12.796875 0.390625 7.625 2.203125 \nL 7.625 11.71875 \nQ 11.71875 9.328125 16.59375 8.109375 \nQ 21.484375 6.890625 26.8125 6.890625 \nQ 36.078125 6.890625 40.9375 10.546875 \nQ 45.796875 14.203125 45.796875 21.1875 \nQ 45.796875 27.640625 41.28125 31.265625 \nQ 36.765625 34.90625 28.71875 34.90625 \nL 20.21875 34.90625 \nL 20.21875 43.015625 \nL 29.109375 43.015625 \nQ 36.375 43.015625 40.234375 45.921875 \nQ 44.09375 48.828125 44.09375 54.296875 \nQ 44.09375 59.90625 40.109375 62.90625 \nQ 36.140625 65.921875 28.71875 65.921875 \nQ 24.65625 65.921875 20.015625 65.03125 \nQ 15.375 64.15625 9.8125 62.3125 \nL 9.8125 71.09375 \nQ 15.4375 72.65625 20.34375 73.4375 \nQ 25.25 74.21875 29.59375 74.21875 \nQ 40.828125 74.21875 47.359375 69.109375 \nQ 53.90625 64.015625 53.90625 55.328125 \nQ 53.90625 49.265625 50.4375 45.09375 \nQ 46.96875 40.921875 40.578125 39.3125 \nz\n\" id=\"DejaVuSans-51\"/>\n       </defs>\n       <use xlink:href=\"#DejaVuSans-51\"/>\n       <use x=\"63.623047\" xlink:href=\"#DejaVuSans-48\"/>\n       <use x=\"127.246094\" xlink:href=\"#DejaVuSans-48\"/>\n       <use x=\"190.869141\" xlink:href=\"#DejaVuSans-48\"/>\n      </g>\n     </g>\n    </g>\n   </g>\n   <g id=\"patch_5\">\n    <path d=\"M 39.65 226.489036 \nL 39.65 9.049036 \n\" style=\"fill:none;stroke:#000000;stroke-linecap:square;stroke-linejoin:miter;stroke-width:0.8;\"/>\n   </g>\n   <g id=\"patch_6\">\n    <path d=\"M 374.45 226.489036 \nL 374.45 9.049036 \n\" style=\"fill:none;stroke:#000000;stroke-linecap:square;stroke-linejoin:miter;stroke-width:0.8;\"/>\n   </g>\n   <g id=\"patch_7\">\n    <path d=\"M 39.65 226.489036 \nL 374.45 226.489036 \n\" style=\"fill:none;stroke:#000000;stroke-linecap:square;stroke-linejoin:miter;stroke-width:0.8;\"/>\n   </g>\n   <g id=\"patch_8\">\n    <path d=\"M 39.65 9.049036 \nL 374.45 9.049036 \n\" style=\"fill:none;stroke:#000000;stroke-linecap:square;stroke-linejoin:miter;stroke-width:0.8;\"/>\n   </g>\n  </g>\n </g>\n <defs>\n  <clipPath id=\"p220f1454df\">\n   <rect height=\"217.44\" width=\"334.8\" x=\"39.65\" y=\"9.049036\"/>\n  </clipPath>\n </defs>\n</svg>\n",
      "image/png": "[encoded data removed]"
     },
     "metadata": {
      "needs_background": "light"
     }
    },
    {
     "output_type": "display_data",
     "data": {
      "text/plain": "<Figure size 720x720 with 0 Axes>"
     },
     "metadata": {}
    },
    {
     "output_type": "stream",
     "name": "stdout",
     "text": [
      "(array([  21., 2883.]), array([0. , 0.5, 1. ]), <BarContainer object of 2 artists>)\n"
     ]
    }
   ],
   "source": [
    "summarize(gss_raw,\"found\")"
   ]
  },
  {
   "cell_type": "code",
   "execution_count": 163,
   "metadata": {},
   "outputs": [
    {
     "output_type": "execute_result",
     "data": {
      "text/plain": [
       "2883"
      ]
     },
     "metadata": {},
     "execution_count": 163
    }
   ],
   "source": [
    "gss_raw.loc[gss_raw['found'] == 8]"
   ]
  },
  {
   "cell_type": "code",
   "execution_count": 39,
   "metadata": {},
   "outputs": [
    {
     "output_type": "execute_result",
     "data": {
      "text/plain": [
       "      Unnamed: 0  found   occ10  occindv  occstatus  occtag  prestg10  \\\n",
       "0              0      0  4760.0      NaN          6       2      31.0   \n",
       "1              1      1  4760.0      1.0          3       1      31.0   \n",
       "2              2      1  6440.0      1.0          3       1      43.0   \n",
       "3              3      1  2300.0      1.0          3       1      53.0   \n",
       "4              4      1  8320.0      1.0          3       1      32.0   \n",
       "...          ...    ...     ...      ...        ...     ...       ...   \n",
       "2899        2899      1  6440.0      1.0          3       1      43.0   \n",
       "2900        2900      1  5700.0      1.0          3       1      47.0   \n",
       "2901        2901      1  2060.0      1.0          3       1      31.0   \n",
       "2902        2902      1  5700.0      1.0          3       1      47.0   \n",
       "2903        2903      1  4110.0      1.0          3       1      31.0   \n",
       "\n",
       "      prestg105plus  indus10  indstatus  ...  gender13  old10  old13  \\\n",
       "0              18.0   4260.0          6  ...       NaN    NaN    NaN   \n",
       "1              18.0   5170.0          3  ...       NaN    NaN    NaN   \n",
       "2              50.0   2070.0          3  ...       NaN    NaN    NaN   \n",
       "3              68.0   8470.0          3  ...       NaN    NaN    NaN   \n",
       "4              22.0   1680.0          3  ...       NaN    NaN    NaN   \n",
       "...             ...      ...        ...  ...       ...    ...    ...   \n",
       "2899           50.0    770.0          3  ...       NaN    NaN    NaN   \n",
       "2900           55.0   9160.0          3  ...       NaN    NaN    NaN   \n",
       "2901           28.0   9160.0          3  ...       NaN    NaN    NaN   \n",
       "2902           55.0   9490.0          3  ...       NaN    NaN    NaN   \n",
       "2903           16.0   8680.0          3  ...       NaN    NaN    NaN   \n",
       "\n",
       "      relate10  relate13  relhhd10  relhhd13  where11  where6  death  \n",
       "0          NaN       NaN       NaN       NaN      NaN     NaN    2.0  \n",
       "1          NaN       NaN       NaN       NaN      NaN     NaN    1.0  \n",
       "2          NaN       NaN       NaN       NaN      NaN     NaN    1.0  \n",
       "3          NaN       NaN       NaN       NaN      NaN     NaN    1.0  \n",
       "4          NaN       NaN       NaN       NaN      NaN     NaN    1.0  \n",
       "...        ...       ...       ...       ...      ...     ...    ...  \n",
       "2899       NaN       NaN       NaN       NaN      NaN     NaN    1.0  \n",
       "2900       NaN       NaN       NaN       NaN      NaN     NaN    1.0  \n",
       "2901       NaN       NaN       NaN       NaN      NaN     NaN    1.0  \n",
       "2902       NaN       NaN       NaN       NaN      NaN     NaN    1.0  \n",
       "2903       NaN       NaN       NaN       NaN      NaN     NaN    1.0  \n",
       "\n",
       "[2904 rows x 1116 columns]"
      ],
      "text/html": "<div>\n<style scoped>\n    .dataframe tbody tr th:only-of-type {\n        vertical-align: middle;\n    }\n\n    .dataframe tbody tr th {\n        vertical-align: top;\n    }\n\n    .dataframe thead th {\n        text-align: right;\n    }\n</style>\n<table border=\"1\" class=\"dataframe\">\n  <thead>\n    <tr style=\"text-align: right;\">\n      <th></th>\n      <th>Unnamed: 0</th>\n      <th>found</th>\n      <th>occ10</th>\n      <th>occindv</th>\n      <th>occstatus</th>\n      <th>occtag</th>\n      <th>prestg10</th>\n      <th>prestg105plus</th>\n      <th>indus10</th>\n      <th>indstatus</th>\n      <th>...</th>\n      <th>gender13</th>\n      <th>old10</th>\n      <th>old13</th>\n      <th>relate10</th>\n      <th>relate13</th>\n      <th>relhhd10</th>\n      <th>relhhd13</th>\n      <th>where11</th>\n      <th>where6</th>\n      <th>death</th>\n    </tr>\n  </thead>\n  <tbody>\n    <tr>\n      <th>0</th>\n      <td>0</td>\n      <td>0</td>\n      <td>4760.0</td>\n      <td>NaN</td>\n      <td>6</td>\n      <td>2</td>\n      <td>31.0</td>\n      <td>18.0</td>\n      <td>4260.0</td>\n      <td>6</td>\n      <td>...</td>\n      <td>NaN</td>\n      <td>NaN</td>\n      <td>NaN</td>\n      <td>NaN</td>\n      <td>NaN</td>\n      <td>NaN</td>\n      <td>NaN</td>\n      <td>NaN</td>\n      <td>NaN</td>\n      <td>2.0</td>\n    </tr>\n    <tr>\n      <th>1</th>\n      <td>1</td>\n      <td>1</td>\n      <td>4760.0</td>\n      <td>1.0</td>\n      <td>3</td>\n      <td>1</td>\n      <td>31.0</td>\n      <td>18.0</td>\n      <td>5170.0</td>\n      <td>3</td>\n      <td>...</td>\n      <td>NaN</td>\n      <td>NaN</td>\n      <td>NaN</td>\n      <td>NaN</td>\n      <td>NaN</td>\n      <td>NaN</td>\n      <td>NaN</td>\n      <td>NaN</td>\n      <td>NaN</td>\n      <td>1.0</td>\n    </tr>\n    <tr>\n      <th>2</th>\n      <td>2</td>\n      <td>1</td>\n      <td>6440.0</td>\n      <td>1.0</td>\n      <td>3</td>\n      <td>1</td>\n      <td>43.0</td>\n      <td>50.0</td>\n      <td>2070.0</td>\n      <td>3</td>\n      <td>...</td>\n      <td>NaN</td>\n      <td>NaN</td>\n      <td>NaN</td>\n      <td>NaN</td>\n      <td>NaN</td>\n      <td>NaN</td>\n      <td>NaN</td>\n      <td>NaN</td>\n      <td>NaN</td>\n      <td>1.0</td>\n    </tr>\n    <tr>\n      <th>3</th>\n      <td>3</td>\n      <td>1</td>\n      <td>2300.0</td>\n      <td>1.0</td>\n      <td>3</td>\n      <td>1</td>\n      <td>53.0</td>\n      <td>68.0</td>\n      <td>8470.0</td>\n      <td>3</td>\n      <td>...</td>\n      <td>NaN</td>\n      <td>NaN</td>\n      <td>NaN</td>\n      <td>NaN</td>\n      <td>NaN</td>\n      <td>NaN</td>\n      <td>NaN</td>\n      <td>NaN</td>\n      <td>NaN</td>\n      <td>1.0</td>\n    </tr>\n    <tr>\n      <th>4</th>\n      <td>4</td>\n      <td>1</td>\n      <td>8320.0</td>\n      <td>1.0</td>\n      <td>3</td>\n      <td>1</td>\n      <td>32.0</td>\n      <td>22.0</td>\n      <td>1680.0</td>\n      <td>3</td>\n      <td>...</td>\n      <td>NaN</td>\n      <td>NaN</td>\n      <td>NaN</td>\n      <td>NaN</td>\n      <td>NaN</td>\n      <td>NaN</td>\n      <td>NaN</td>\n      <td>NaN</td>\n      <td>NaN</td>\n      <td>1.0</td>\n    </tr>\n    <tr>\n      <th>...</th>\n      <td>...</td>\n      <td>...</td>\n      <td>...</td>\n      <td>...</td>\n      <td>...</td>\n      <td>...</td>\n      <td>...</td>\n      <td>...</td>\n      <td>...</td>\n      <td>...</td>\n      <td>...</td>\n      <td>...</td>\n      <td>...</td>\n      <td>...</td>\n      <td>...</td>\n      <td>...</td>\n      <td>...</td>\n      <td>...</td>\n      <td>...</td>\n      <td>...</td>\n      <td>...</td>\n    </tr>\n    <tr>\n      <th>2899</th>\n      <td>2899</td>\n      <td>1</td>\n      <td>6440.0</td>\n      <td>1.0</td>\n      <td>3</td>\n      <td>1</td>\n      <td>43.0</td>\n      <td>50.0</td>\n      <td>770.0</td>\n      <td>3</td>\n      <td>...</td>\n      <td>NaN</td>\n      <td>NaN</td>\n      <td>NaN</td>\n      <td>NaN</td>\n      <td>NaN</td>\n      <td>NaN</td>\n      <td>NaN</td>\n      <td>NaN</td>\n      <td>NaN</td>\n      <td>1.0</td>\n    </tr>\n    <tr>\n      <th>2900</th>\n      <td>2900</td>\n      <td>1</td>\n      <td>5700.0</td>\n      <td>1.0</td>\n      <td>3</td>\n      <td>1</td>\n      <td>47.0</td>\n      <td>55.0</td>\n      <td>9160.0</td>\n      <td>3</td>\n      <td>...</td>\n      <td>NaN</td>\n      <td>NaN</td>\n      <td>NaN</td>\n      <td>NaN</td>\n      <td>NaN</td>\n      <td>NaN</td>\n      <td>NaN</td>\n      <td>NaN</td>\n      <td>NaN</td>\n      <td>1.0</td>\n    </tr>\n    <tr>\n      <th>2901</th>\n      <td>2901</td>\n      <td>1</td>\n      <td>2060.0</td>\n      <td>1.0</td>\n      <td>3</td>\n      <td>1</td>\n      <td>31.0</td>\n      <td>28.0</td>\n      <td>9160.0</td>\n      <td>3</td>\n      <td>...</td>\n      <td>NaN</td>\n      <td>NaN</td>\n      <td>NaN</td>\n      <td>NaN</td>\n      <td>NaN</td>\n      <td>NaN</td>\n      <td>NaN</td>\n      <td>NaN</td>\n      <td>NaN</td>\n      <td>1.0</td>\n    </tr>\n    <tr>\n      <th>2902</th>\n      <td>2902</td>\n      <td>1</td>\n      <td>5700.0</td>\n      <td>1.0</td>\n      <td>3</td>\n      <td>1</td>\n      <td>47.0</td>\n      <td>55.0</td>\n      <td>9490.0</td>\n      <td>3</td>\n      <td>...</td>\n      <td>NaN</td>\n      <td>NaN</td>\n      <td>NaN</td>\n      <td>NaN</td>\n      <td>NaN</td>\n      <td>NaN</td>\n      <td>NaN</td>\n      <td>NaN</td>\n      <td>NaN</td>\n      <td>1.0</td>\n    </tr>\n    <tr>\n      <th>2903</th>\n      <td>2903</td>\n      <td>1</td>\n      <td>4110.0</td>\n      <td>1.0</td>\n      <td>3</td>\n      <td>1</td>\n      <td>31.0</td>\n      <td>16.0</td>\n      <td>8680.0</td>\n      <td>3</td>\n      <td>...</td>\n      <td>NaN</td>\n      <td>NaN</td>\n      <td>NaN</td>\n      <td>NaN</td>\n      <td>NaN</td>\n      <td>NaN</td>\n      <td>NaN</td>\n      <td>NaN</td>\n      <td>NaN</td>\n      <td>1.0</td>\n    </tr>\n  </tbody>\n</table>\n<p>2904 rows × 1116 columns</p>\n</div>"
     },
     "metadata": {},
     "execution_count": 39
    }
   ],
   "source": [
    "\n",
    "        hist=plt.hist(dfvar, bins=2)\n",
    "        plt.xticks([0,1])\n",
    "    elif range\n",
    "    plt.savefig(f\"../figures/Histogram_{variable}.png\")\n",
    "    plt.show()\n",
    "    print(hist)\n",
    "\n",
    "    plt.xticks(np.arange(.5, 1.5, step=1))  # Set label locations.\n"
   ]
  },
  {
   "cell_type": "code",
   "execution_count": null,
   "metadata": {},
   "outputs": [],
   "source": []
  }
 ]
}