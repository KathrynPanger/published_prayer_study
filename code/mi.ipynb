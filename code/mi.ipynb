{
 "metadata": {
  "language_info": {
   "codemirror_mode": {
    "name": "ipython",
    "version": 3
   },
   "file_extension": ".py",
   "mimetype": "text/x-python",
   "name": "python",
   "nbconvert_exporter": "python",
   "pygments_lexer": "ipython3",
   "version": "3.8.5-final"
  },
  "orig_nbformat": 2,
  "kernelspec": {
   "name": "python3",
   "display_name": "Python 3.8.5 64-bit ('base': conda)",
   "metadata": {
    "interpreter": {
     "hash": "9a492a932a5bed98d6f8e1b5f1ae1d46b2b5df4ebd9e59fb2d1181a1f217f2fd"
    }
   }
  }
 },
 "nbformat": 4,
 "nbformat_minor": 2,
 "cells": [
  {
   "cell_type": "code",
   "execution_count": 19,
   "metadata": {},
   "outputs": [],
   "source": [
    "#Dependencies\n",
    "from fancyimpute import KNN, NuclearNormMinimization, SoftImpute, BiScaler\n",
    "import pandas as pd\n",
    "import sklearn\n",
    "from sklearn.experimental import enable_iterative_imputer  # noqa\n",
    "from sklearn.impute import IterativeImputer\n",
    "import numpy as np"
   ]
  },
  {
   "cell_type": "code",
   "execution_count": 8,
   "metadata": {},
   "outputs": [
    {
     "output_type": "execute_result",
     "data": {
      "text/plain": [
       "         found     occ10   occindv occstatus    occtag prestg10 prestg105plus  \\\n",
       "0     not foun  retail s       IAP  not foun  not foun       31            18   \n",
       "1        found  retail s  verbatim  found, c     found       31            18   \n",
       "2        found  pipelaye  verbatim  found, c     found       43            50   \n",
       "3        found  preschoo  verbatim  found, c     found       53            68   \n",
       "4        found  sewing m  verbatim  found, c     found       32            22   \n",
       "...        ...       ...       ...       ...       ...      ...           ...   \n",
       "2899     found  pipelaye  verbatim  found, c     found       43            50   \n",
       "2900     found  secretar  verbatim  found, c     found       47            55   \n",
       "2901     found  religiou  verbatim  found, c     found       31            28   \n",
       "2902     found  secretar  verbatim  found, c     found       47            55   \n",
       "2903     found   waiters  verbatim  found, c     found       31            16   \n",
       "\n",
       "       indus10 indstatus    indtag  ...    whother  xml xcath xjew xother  \\\n",
       "0     hardware  not foun  not foun  ...  46.776667  0.0   0.0  1.0    0.0   \n",
       "1     clothing  found, c     found  ...  46.776667  0.0   1.0  0.0    0.0   \n",
       "2     petroleu  found, c     found  ...  46.776667  0.0   0.0  0.0    1.0   \n",
       "3     child da  found, c     found  ...  46.776667  0.0   1.0  0.0    0.0   \n",
       "4      cut and  found, c     found  ...  46.776667  0.0   0.0  0.0    0.0   \n",
       "...        ...       ...       ...  ...        ...  ...   ...  ...    ...   \n",
       "2899  construc  found, c     found  ...  46.776667  0.0   0.0  0.0    0.0   \n",
       "2900  religiou  found, c     found  ...  46.776667  0.0   0.0  0.0    0.0   \n",
       "2901  religiou  found, c     found  ...  46.776667  0.0   0.0  0.0    0.0   \n",
       "2902  administ  found, c     found  ...  46.776667  0.0   1.0  0.0    0.0   \n",
       "2903   restaur  found, c     found  ...  46.776667  0.0   0.0  0.0    1.0   \n",
       "\n",
       "     noxev noxevxaf xnonaff xprotdk        reltrad  \n",
       "0      1.0      5.0     0.0     0.0         jewish  \n",
       "1      1.0      4.0     0.0     0.0       catholic  \n",
       "2      1.0      6.0     0.0     0.0    other faith  \n",
       "3      1.0      4.0     0.0     0.0       catholic  \n",
       "4      1.0      9.0     1.0     0.0  nonaffiliated  \n",
       "...    ...      ...     ...     ...            ...  \n",
       "2899   1.0      9.0     1.0     0.0  nonaffiliated  \n",
       "2900   0.0      0.0     0.0     0.0    evangelical  \n",
       "2901   0.0      0.0     0.0     0.0    evangelical  \n",
       "2902   1.0      4.0     0.0     0.0       catholic  \n",
       "2903   1.0      6.0     0.0     0.0    other faith  \n",
       "\n",
       "[2904 rows x 1133 columns]"
      ],
      "text/html": "<div>\n<style scoped>\n    .dataframe tbody tr th:only-of-type {\n        vertical-align: middle;\n    }\n\n    .dataframe tbody tr th {\n        vertical-align: top;\n    }\n\n    .dataframe thead th {\n        text-align: right;\n    }\n</style>\n<table border=\"1\" class=\"dataframe\">\n  <thead>\n    <tr style=\"text-align: right;\">\n      <th></th>\n      <th>found</th>\n      <th>occ10</th>\n      <th>occindv</th>\n      <th>occstatus</th>\n      <th>occtag</th>\n      <th>prestg10</th>\n      <th>prestg105plus</th>\n      <th>indus10</th>\n      <th>indstatus</th>\n      <th>indtag</th>\n      <th>...</th>\n      <th>whother</th>\n      <th>xml</th>\n      <th>xcath</th>\n      <th>xjew</th>\n      <th>xother</th>\n      <th>noxev</th>\n      <th>noxevxaf</th>\n      <th>xnonaff</th>\n      <th>xprotdk</th>\n      <th>reltrad</th>\n    </tr>\n  </thead>\n  <tbody>\n    <tr>\n      <th>0</th>\n      <td>not foun</td>\n      <td>retail s</td>\n      <td>IAP</td>\n      <td>not foun</td>\n      <td>not foun</td>\n      <td>31</td>\n      <td>18</td>\n      <td>hardware</td>\n      <td>not foun</td>\n      <td>not foun</td>\n      <td>...</td>\n      <td>46.776667</td>\n      <td>0.0</td>\n      <td>0.0</td>\n      <td>1.0</td>\n      <td>0.0</td>\n      <td>1.0</td>\n      <td>5.0</td>\n      <td>0.0</td>\n      <td>0.0</td>\n      <td>jewish</td>\n    </tr>\n    <tr>\n      <th>1</th>\n      <td>found</td>\n      <td>retail s</td>\n      <td>verbatim</td>\n      <td>found, c</td>\n      <td>found</td>\n      <td>31</td>\n      <td>18</td>\n      <td>clothing</td>\n      <td>found, c</td>\n      <td>found</td>\n      <td>...</td>\n      <td>46.776667</td>\n      <td>0.0</td>\n      <td>1.0</td>\n      <td>0.0</td>\n      <td>0.0</td>\n      <td>1.0</td>\n      <td>4.0</td>\n      <td>0.0</td>\n      <td>0.0</td>\n      <td>catholic</td>\n    </tr>\n    <tr>\n      <th>2</th>\n      <td>found</td>\n      <td>pipelaye</td>\n      <td>verbatim</td>\n      <td>found, c</td>\n      <td>found</td>\n      <td>43</td>\n      <td>50</td>\n      <td>petroleu</td>\n      <td>found, c</td>\n      <td>found</td>\n      <td>...</td>\n      <td>46.776667</td>\n      <td>0.0</td>\n      <td>0.0</td>\n      <td>0.0</td>\n      <td>1.0</td>\n      <td>1.0</td>\n      <td>6.0</td>\n      <td>0.0</td>\n      <td>0.0</td>\n      <td>other faith</td>\n    </tr>\n    <tr>\n      <th>3</th>\n      <td>found</td>\n      <td>preschoo</td>\n      <td>verbatim</td>\n      <td>found, c</td>\n      <td>found</td>\n      <td>53</td>\n      <td>68</td>\n      <td>child da</td>\n      <td>found, c</td>\n      <td>found</td>\n      <td>...</td>\n      <td>46.776667</td>\n      <td>0.0</td>\n      <td>1.0</td>\n      <td>0.0</td>\n      <td>0.0</td>\n      <td>1.0</td>\n      <td>4.0</td>\n      <td>0.0</td>\n      <td>0.0</td>\n      <td>catholic</td>\n    </tr>\n    <tr>\n      <th>4</th>\n      <td>found</td>\n      <td>sewing m</td>\n      <td>verbatim</td>\n      <td>found, c</td>\n      <td>found</td>\n      <td>32</td>\n      <td>22</td>\n      <td>cut and</td>\n      <td>found, c</td>\n      <td>found</td>\n      <td>...</td>\n      <td>46.776667</td>\n      <td>0.0</td>\n      <td>0.0</td>\n      <td>0.0</td>\n      <td>0.0</td>\n      <td>1.0</td>\n      <td>9.0</td>\n      <td>1.0</td>\n      <td>0.0</td>\n      <td>nonaffiliated</td>\n    </tr>\n    <tr>\n      <th>...</th>\n      <td>...</td>\n      <td>...</td>\n      <td>...</td>\n      <td>...</td>\n      <td>...</td>\n      <td>...</td>\n      <td>...</td>\n      <td>...</td>\n      <td>...</td>\n      <td>...</td>\n      <td>...</td>\n      <td>...</td>\n      <td>...</td>\n      <td>...</td>\n      <td>...</td>\n      <td>...</td>\n      <td>...</td>\n      <td>...</td>\n      <td>...</td>\n      <td>...</td>\n      <td>...</td>\n    </tr>\n    <tr>\n      <th>2899</th>\n      <td>found</td>\n      <td>pipelaye</td>\n      <td>verbatim</td>\n      <td>found, c</td>\n      <td>found</td>\n      <td>43</td>\n      <td>50</td>\n      <td>construc</td>\n      <td>found, c</td>\n      <td>found</td>\n      <td>...</td>\n      <td>46.776667</td>\n      <td>0.0</td>\n      <td>0.0</td>\n      <td>0.0</td>\n      <td>0.0</td>\n      <td>1.0</td>\n      <td>9.0</td>\n      <td>1.0</td>\n      <td>0.0</td>\n      <td>nonaffiliated</td>\n    </tr>\n    <tr>\n      <th>2900</th>\n      <td>found</td>\n      <td>secretar</td>\n      <td>verbatim</td>\n      <td>found, c</td>\n      <td>found</td>\n      <td>47</td>\n      <td>55</td>\n      <td>religiou</td>\n      <td>found, c</td>\n      <td>found</td>\n      <td>...</td>\n      <td>46.776667</td>\n      <td>0.0</td>\n      <td>0.0</td>\n      <td>0.0</td>\n      <td>0.0</td>\n      <td>0.0</td>\n      <td>0.0</td>\n      <td>0.0</td>\n      <td>0.0</td>\n      <td>evangelical</td>\n    </tr>\n    <tr>\n      <th>2901</th>\n      <td>found</td>\n      <td>religiou</td>\n      <td>verbatim</td>\n      <td>found, c</td>\n      <td>found</td>\n      <td>31</td>\n      <td>28</td>\n      <td>religiou</td>\n      <td>found, c</td>\n      <td>found</td>\n      <td>...</td>\n      <td>46.776667</td>\n      <td>0.0</td>\n      <td>0.0</td>\n      <td>0.0</td>\n      <td>0.0</td>\n      <td>0.0</td>\n      <td>0.0</td>\n      <td>0.0</td>\n      <td>0.0</td>\n      <td>evangelical</td>\n    </tr>\n    <tr>\n      <th>2902</th>\n      <td>found</td>\n      <td>secretar</td>\n      <td>verbatim</td>\n      <td>found, c</td>\n      <td>found</td>\n      <td>47</td>\n      <td>55</td>\n      <td>administ</td>\n      <td>found, c</td>\n      <td>found</td>\n      <td>...</td>\n      <td>46.776667</td>\n      <td>0.0</td>\n      <td>1.0</td>\n      <td>0.0</td>\n      <td>0.0</td>\n      <td>1.0</td>\n      <td>4.0</td>\n      <td>0.0</td>\n      <td>0.0</td>\n      <td>catholic</td>\n    </tr>\n    <tr>\n      <th>2903</th>\n      <td>found</td>\n      <td>waiters</td>\n      <td>verbatim</td>\n      <td>found, c</td>\n      <td>found</td>\n      <td>31</td>\n      <td>16</td>\n      <td>restaur</td>\n      <td>found, c</td>\n      <td>found</td>\n      <td>...</td>\n      <td>46.776667</td>\n      <td>0.0</td>\n      <td>0.0</td>\n      <td>0.0</td>\n      <td>1.0</td>\n      <td>1.0</td>\n      <td>6.0</td>\n      <td>0.0</td>\n      <td>0.0</td>\n      <td>other faith</td>\n    </tr>\n  </tbody>\n</table>\n<p>2904 rows × 1133 columns</p>\n</div>"
     },
     "metadata": {},
     "execution_count": 8
    }
   ],
   "source": [
    "#Bring in the recoded data\n",
    "gss_recoded=pd.read_csv(\"../data/gss_recoded.csv\", encoding='iso-8859-1')\n",
    "gss_means"
   ]
  },
  {
   "cell_type": "code",
   "execution_count": 20,
   "metadata": {},
   "outputs": [],
   "source": [
    "#Create a dataset imputed with the means of each variable\n",
    "gss_means=gss_recoded.copy(deep=True)\n",
    "for varname in gss_means:\n",
    "    try:\n",
    "        mean=gss_means[f\"{varname}\"].mean()\n",
    "        gss_means.loc[(gss_means[f\"{varname}\"].isnull()), varname] = mean\n",
    "    except:\n",
    "        print(f\" {varname} is not numeric, no mean imputed\")"
   ]
  },
  {
   "cell_type": "code",
   "execution_count": 10,
   "metadata": {},
   "outputs": [
    {
     "output_type": "stream",
     "name": "stdout",
     "text": [
      "Imputing row 1/1114 with 631 missing, elapsed time: 38.648\n",
      "Imputing row 101/1114 with 600 missing, elapsed time: 40.211\n",
      "Imputing row 201/1114 with 627 missing, elapsed time: 41.829\n",
      "Imputing row 301/1114 with 673 missing, elapsed time: 43.096\n",
      "Imputing row 401/1114 with 609 missing, elapsed time: 44.633\n",
      "Imputing row 501/1114 with 652 missing, elapsed time: 46.115\n",
      "Imputing row 601/1114 with 596 missing, elapsed time: 46.961\n",
      "Imputing row 701/1114 with 596 missing, elapsed time: 47.864\n",
      "Imputing row 801/1114 with 628 missing, elapsed time: 48.935\n",
      "Imputing row 901/1114 with 657 missing, elapsed time: 49.814\n",
      "Imputing row 1001/1114 with 632 missing, elapsed time: 50.675\n",
      "Imputing row 1101/1114 with 620 missing, elapsed time: 51.480\n",
      "[KNN] Warning: 426662/1367992 still missing after imputation, replacing with 0\n"
     ]
    }
   ],
   "source": [
    "#Fancyimpute imputation\n",
    "# Create a dataframe with the values imputed using nearest three rows\n",
    "gss_k3=gss_recoded.copy(deep=True)\n",
    "X_filled_knn = KNN(k=3).fit_transform(gss_k3)\n",
    "gss_knn=pd.DataFrame(X_filled_knn, columns=gss_recoded.columns)\n",
    "gss_knn.to_csv(\"../data/gss_fancyimpute_knn.csv\")"
   ]
  },
  {
   "cell_type": "code",
   "execution_count": 26,
   "metadata": {},
   "outputs": [],
   "source": [
    "#Sklearn imputation\n",
    "##BaysianRidge method\n",
    "##10 iterations\n",
    "##ALL features used to estimate\n",
    "test=sklearn.impute.IterativeImputer(missing_values=np.nan,sample_posterior=True, max_iter=10, n_nearest_features=3,random_state=30)"
   ]
  },
  {
   "cell_type": "code",
   "execution_count": 27,
   "metadata": {},
   "outputs": [
    {
     "output_type": "execute_result",
     "data": {
      "text/plain": [
       "IterativeImputer(n_nearest_features=3, random_state=30, sample_posterior=True)"
      ]
     },
     "metadata": {},
     "execution_count": 27
    }
   ],
   "source": [
    "test"
   ]
  },
  {
   "cell_type": "code",
   "execution_count": null,
   "metadata": {},
   "outputs": [],
   "source": []
  }
 ]
}