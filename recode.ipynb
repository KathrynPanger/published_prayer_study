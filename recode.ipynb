{
 "metadata": {
  "language_info": {
   "codemirror_mode": {
    "name": "ipython",
    "version": 3
   },
   "file_extension": ".py",
   "mimetype": "text/x-python",
   "name": "python",
   "nbconvert_exporter": "python",
   "pygments_lexer": "ipython3",
   "version": "3.8.5-final"
  },
  "orig_nbformat": 2,
  "kernelspec": {
   "name": "python3",
   "display_name": "Python 3.8.5 64-bit ('base': conda)",
   "metadata": {
    "interpreter": {
     "hash": "9a492a932a5bed98d6f8e1b5f1ae1d46b2b5df4ebd9e59fb2d1181a1f217f2fd"
    }
   }
  }
 },
 "nbformat": 4,
 "nbformat_minor": 2,
 "cells": [
  {
   "cell_type": "code",
   "execution_count": 83,
   "metadata": {},
   "outputs": [],
   "source": [
    "#dependencies\n",
    "import pandas as pd\n",
    "import math\n"
   ]
  },
  {
   "cell_type": "code",
   "execution_count": 84,
   "metadata": {},
   "outputs": [],
   "source": [
    "#Bring in the dataset\n",
    "gss = pd.io.stata.read_stata('GSS1996.dta', convert_categoricals=False)\n",
    "gss.to_csv('gss_converted.csv')"
   ]
  },
  {
   "cell_type": "code",
   "execution_count": 85,
   "metadata": {},
   "outputs": [],
   "source": [
    "#drop all instances where angry event was not recalled\n",
    "gss=gss.dropna(subset=[\"chnang7\"])"
   ]
  },
  {
   "cell_type": "code",
   "execution_count": 86,
   "metadata": {},
   "outputs": [],
   "source": [
    "#Recode DV to dummy\n",
    "gss[\"pray_anger\"]=gss[\"chnang7\"]\n",
    "gss.loc[gss.chnang7 == 2, 'pray_anger'] = 0"
   ]
  },
  {
   "cell_type": "code",
   "execution_count": 87,
   "metadata": {},
   "outputs": [],
   "source": [
    "#Recode sex to dummy, reference category = \"female\"\n",
    "gss[\"sex_r\"]=gss[\"sex\"]\n",
    "gss.loc[gss.sex == 1, 'sex_r'] = 0\n",
    "gss.loc[gss.sex == 2, 'sex_r'] = 1"
   ]
  },
  {
   "cell_type": "code",
   "execution_count": 88,
   "metadata": {},
   "outputs": [],
   "source": [
    "#Recode race to dummy, reference category = \"nonwhite\"\n",
    "gss[\"race_r\"]=gss[\"race\"]\n",
    "gss.loc[gss.race == 1, 'race_r'] = 0\n",
    "gss.loc[gss.race > 1, 'race_r'] = 1"
   ]
  },
  {
   "cell_type": "code",
   "execution_count": 89,
   "metadata": {},
   "outputs": [],
   "source": [
    "#Recode degree to dummy, reference category = \"has no degree\" (note that in original study, ref cat was HAS degree)\n",
    "gss[\"degree_r\"]=gss[\"degree\"]\n",
    "gss.loc[gss.degree <=3, 'degree_r'] = 0\n",
    "gss.loc[gss.degree > 3, 'degree_r'] = 1"
   ]
  },
  {
   "cell_type": "code",
   "execution_count": 90,
   "metadata": {},
   "outputs": [],
   "source": [
    "#Recode region to dummy, reference category = \"Not from South\"\n",
    "gss[\"region_r\"]=gss[\"region\"]\n",
    "gss.loc[(gss.region <=4) | (gss.region >7), 'region_r'] = 0\n",
    "gss.loc[(gss.region >=5) & (gss.region <=7), 'region_r'] = 1"
   ]
  },
  {
   "cell_type": "code",
   "execution_count": 91,
   "metadata": {},
   "outputs": [],
   "source": [
    "#Recode marital to new categorical variable with reference category = \"single, never married\" and divorced and separated categories combined (note that this differs slightly from the original study, which did not assign \"0\" to any value of the variable.)\n",
    "#New categories:\n",
    "#0=single, never married\n",
    "#1=married\n",
    "#2=divorced/separated\n",
    "#3=widowed\n",
    "gss[\"marital_r\"]=gss[\"marital\"]\n",
    "gss.loc[(gss.marital ==5), 'marital_r'] = 0\n",
    "gss.loc[(gss.marital ==4) | (gss.marital ==3), 'marital_r'] = 2\n",
    "gss.loc[(gss.marital ==3), 'marital_r'] = 3"
   ]
  },
  {
   "cell_type": "code",
   "execution_count": 92,
   "metadata": {},
   "outputs": [],
   "source": [
    "#Recode parent to dummy, reference category = \"is not parent\"\n",
    "gss[\"childs_r\"]=gss[\"childs\"]\n",
    "gss.loc[(gss.childs >0), 'childs_r'] = 1\n"
   ]
  },
  {
   "cell_type": "code",
   "execution_count": 93,
   "metadata": {},
   "outputs": [],
   "source": [
    "#Center the age variable\n",
    "gss[\"age_c\"]=gss[\"age\"]-gss[\"age\"].mean()"
   ]
  },
  {
   "cell_type": "code",
   "execution_count": 94,
   "metadata": {},
   "outputs": [],
   "source": [
    "#Recode fundamentalism to dummy. Reference category =  \"not fundamentalist\"\n",
    "gss[\"fund_r\"]=gss[\"fund\"]\n",
    "gss.loc[(gss.fund >=2), 'fund_r'] = 0"
   ]
  },
  {
   "cell_type": "code",
   "execution_count": 95,
   "metadata": {},
   "outputs": [],
   "source": [
    "#Recode frequency of prayer to dummy. Reference category =  \"less than once per day\"\n",
    "gss[\"pray_r\"]=gss[\"pray\"]\n",
    "gss.loc[(gss.pray <=2), 'pray_r'] = 1\n",
    "gss.loc[(gss.pray >2), 'pray_r'] = 0"
   ]
  },
  {
   "cell_type": "code",
   "execution_count": 96,
   "metadata": {},
   "outputs": [],
   "source": [
    "#Recode religious affiliation to be consistent with the RELTRAD taxonomy devleoped by Steensland et al (2000), as coded in an updated more=accurate version for the GSS in 2015 by Ryan Burge (https://github.com/ryanburge/reltrad)\n",
    "\n",
    "#Categories\n",
    "# 1 evangelical\n",
    "# 2 mainline\n",
    "# 3 black protestant\n",
    "# 4 catholic\n",
    "# 5 jewish\n",
    "# 6 other\n",
    "# 7 nonaffiliated\n",
    "\n",
    "##create xaffil variable to store recoded religion variable values\n",
    "gss[\"xaffil\"]=gss[\"relig\"]\n",
    "gss.loc[(gss.relig ==2), 'xaffil'] = 4\n",
    "gss.loc[(gss.relig ==3), 'xaffil'] = 5\n",
    "gss.loc[(gss.relig ==4), 'xaffil'] = 9\n",
    "gss.loc[(gss.relig >=5) & (gss.relig <=10), 'xaffil'] = 6\n",
    "gss.loc[(gss.relig ==12), 'xaffil'] = 6\n",
    "gss.loc[(gss.relig ==13), 'xaffil'] = 1\n",
    "\n",
    "##create dummy variable to identify black protestant respondants\n",
    "gss[\"xbp\"]=gss[\"other\"]\n",
    "bp_list=[7, 14, 15, 21, 37, 38, 56, 78, 79, 85, 86, 87, 88, 98, 103, 104, 128, 133]\n",
    "bpd_list= [12,13,20,21]\n",
    "###first identifying black protestant responses from \"other religions\" variable\n",
    "for value in bp_list:\n",
    "    gss.loc[(gss.other ==value), 'xbp'] = 1\n",
    " ###next identifying black protestant responses from \"denomination\" variable   \n",
    "for value in bpd_list:\n",
    "    gss.loc[(gss.denom ==value), 'xbp'] = 1\n",
    "###next, using race of respondant for ambiguous denominations \n",
    "gss[\"bl\"]=gss[\"race\"]\n",
    "gss.loc[(gss.race ==2), 'bl']=1\n",
    "gss.loc[(gss.race ==3) | (gss.race ==1), 'bl']=0\n",
    "gss[\"bldenom\"]=gss[\"denom\"]*gss[\"bl\"]\n",
    "\n",
    "bldenom_list=[23,28,18,15,10,11,14]\n",
    "for value in bldenom_list:\n",
    "    gss.loc[(gss.bldenom ==value), 'xbp']=1\n",
    "###finally, by pairing race of respondant with ambiguous \"other religion\"\n",
    "gss[\"blother\"]=gss[\"other\"]*gss[\"bl\"]\n",
    "gss.loc[(gss.blother ==93), 'xbp']=1\n",
    "\n",
    "##create dummy variable to identify evangelical respondants\n",
    "###first by identifying obvious denominations\n",
    "gss[\"xev\"]=gss[\"other\"]\n",
    "xev_list=[2, 3, 5, 6, 9, 10, 12, 13, 16, 18, 20, 22, 24, 26, 27, 28, 31, 32, 34, 35, 36, 39, 41, 42, 43, 45, 47, 51, 52, 53, 55, 57, 63, 65, 66, 67, 68, 69, 76, 77, 83, 84, 90, 91, 92, 94, 97, 100, 101, 102, 106, 107, 108, 109, 110, 111, 112, 115, 116, 117, 118, 120, 121, 122, 124, 125, 127, 129, 131, 132, 134, 135, 138, 139, 140, 146]\n",
    "for value in xev_list:\n",
    "    gss.loc[(gss.xev ==value), 'xev'] = 1\n",
    "gss.loc[(gss.xev !=1), 'xev'] = 0\n",
    "denom_list=[32,33,34,42]\n",
    "for value in denom_list:\n",
    "    gss.loc[(gss.denom ==value), 'xev'] = 1\n",
    "###next using respondants race\n",
    "gss[\"wh\"]=gss[\"race\"]\n",
    "gss.loc[(gss.race ==2), 'wh'] = 0\n",
    "gss.loc[(gss.race ==3), 'wh'] = 1\n",
    "gss[\"whdenom\"]=gss[\"denom\"]*gss[\"wh\"]\n",
    "wh_list=[23,18,15,10,14]\n",
    "for value in wh_list:\n",
    "    gss.loc[(gss.whdenom ==value), 'xev'] = 1\n",
    "gss[\"whother\"]=gss[\"other\"]*gss[\"wh\"]\n",
    "gss.loc[(gss.whother ==93), 'xev'] = 1\n",
    "gss.loc[(gss.xbp ==1), 'xev'] = 0\n",
    "\n",
    "##create dummy variable to identify mainline respondants\n",
    "gss[\"xml\"]=gss[\"other\"]\n",
    "ml_list=[1, 8, 19, 23, 25, 40, 44, 46, 48, 49, 50, 54, 70, 71, 72, 73, 81, 89, 96, 99, 105, 119, 148]\n",
    "for value in ml_list:\n",
    "    gss.loc[(gss.xml ==value), 'xml'] = 1\n",
    "gss.loc[(gss.xml !=1), 'xml'] = 0\n",
    "mld_list=[22,30,31,35,38,40,41,43,48,50]\n",
    "for value in mld_list:\n",
    "    gss.loc[(gss.denom ==value), 'xml'] = 1\n",
    "gss.loc[(gss.whdenom ==11) | (gss.whdenom ==28), 'xml']=1\n",
    "\n",
    "##create dummy variable to identify catholic respondants\n",
    "gss[\"xcath\"]=gss[\"other\"]\n",
    "gss.loc[(gss.xaffil ==4), 'xcath'] = 1\n",
    "\n",
    "##create dummy variable to identify jewish respondants\n",
    "gss[\"xjew\"]=gss[\"other\"]\n",
    "gss.loc[(gss.xaffil ==5), 'xjew'] = 1\n",
    "\n",
    "##create dummy variable to identify other respondants\n",
    "gss[\"xother\"]=gss[\"other\"]\n",
    "other_list=[11, 17, 29, 30, 33, 58, 59, 60, 61, 62, 64, 74, 75, 80, 82, 95, 113, 114, 130, 136, 141, 145]\n",
    "for value in other_list:\n",
    "    gss.loc[(gss.other ==value), 'xother'] = 1\n",
    "gss.loc[(gss.xother !=1), 'xother'] = 0\n",
    "\n",
    "gss[\"noxev\"]=1-gss[\"xev\"]\n",
    "gss[\"noxevxaf\"]=gss[\"noxev\"]*gss[\"xaffil\"]\n",
    "gss.loc[(gss.noxevxaf==6), 'xother'] = 1\n",
    "\n",
    "gss[\"xnonaff\"]=1-gss[\"xaffil\"]\n",
    "gss.loc[(gss.xnonaff==9), 'xnonaff'] = 1\n",
    "gss.loc[(gss.noxevxaf!=1), 'xnonaff'] = 0\n",
    "\n",
    "##classify non-denomonational people as evangelical if they attend church at least once per month (I *think* this is what the original code is doing, but I'm not certain. Will check later after re-reading Steensland et al.The code below simply copies the function of the original code exactly but with python syntax.)\n",
    "gss[\"xprotdk\"]=gss[\"denom\"]\n",
    "dk_list=[0,1,2,3,9]\n",
    "for value in dk_list:\n",
    "    gss.loc[(gss.attend ==value), 'xprotdk'] = 0\n",
    "gss.loc[(gss.xprotdk ==1), 'xev'] = 1\n",
    "\n",
    "#generate the final reltrad variable using all dummies to ID values\n",
    "gss[\"reltrad\"]=0\n",
    "gss.loc[(gss.xnonaff ==1), 'reltrad'] = 7\n",
    "gss.loc[(gss.xother ==1), 'reltrad'] = 6\n",
    "gss.loc[(gss.xjew ==1), 'reltrad'] = 5\n",
    "gss.loc[(gss.xcath ==1), 'reltrad'] = 4\n",
    "gss.loc[(gss.xbp ==1), 'reltrad'] = 3\n",
    "gss.loc[(gss.xml ==1), 'reltrad'] = 2\n",
    "gss.loc[(gss.xev ==1), 'reltrad'] = 1\n",
    "gss.loc[(gss.reltrad ==0), 'reltrad'] = None\n"
   ]
  },
  {
   "cell_type": "code",
   "execution_count": 97,
   "metadata": {},
   "outputs": [],
   "source": [
    "#Create source of anger variable; in past week, who was the respondant angry with.\n",
    "\n",
    "#Categories: \n",
    "# 0 \"none\"\n",
    "# 1 \"family\" \n",
    "# 2 \"friend\" \n",
    "# 3 \"work\" \n",
    "# 4 \"self\" \n",
    "# 5 \"other\"\n",
    "\n",
    "##Family\n",
    "gss[\"angryfamily\"]=0\n",
    "gss.loc[(gss.madat1 ==1), 'angryfamily'] = 1\n",
    "gss.loc[(gss.madat2 ==1), 'angryfamily'] = 1\n",
    "gss.loc[(gss.madat3 ==1), 'angryfamily'] = 1\n",
    "gss.loc[(gss.madat4 ==1), 'angryfamily'] = 1\n",
    "gss.loc[(gss.madat5 ==1), 'angryfamily'] = 1\n",
    "gss.loc[(gss.madat6 ==1), 'angryfamily'] = 1\n",
    "gss.loc[(gss.madat7 ==1), 'angryfamily'] = 1\n",
    "gss.loc[(gss.madat8 ==1), 'angryfamily'] = 1\n",
    "gss.loc[(gss.madat23 ==1), 'angryfamily'] = 1\n",
    "gss.loc[(gss.madat23 ==2), 'angryfamily'] = 1\n",
    "\n",
    "##Friend\n",
    "gss[\"angryfriend\"]=0\n",
    "gss.loc[(gss.madat9 ==1), 'angryfriend'] = 1\n",
    "gss.loc[(gss.madat10 ==1), 'angryfriend'] = 1\n",
    "gss.loc[(gss.madat11 ==1), 'angryfriend'] = 1\n",
    "\n",
    "##Work\n",
    "gss[\"angrywork\"]=0\n",
    "gss.loc[(gss.madat12 ==1), 'angrywork'] = 1\n",
    "gss.loc[(gss.madat13 ==1), 'angrywork'] = 1\n",
    "gss.loc[(gss.madat14 ==1), 'angrywork'] = 1\n",
    "gss.loc[(gss.madat15 ==1), 'angrywork'] = 1\n",
    "gss.loc[(gss.madat16 ==1), 'angrywork'] = 1\n",
    "\n",
    "##Self\n",
    "gss[\"angryself\"]=0\n",
    "gss.loc[(gss.madat21 ==1), 'angryself'] = 1\n",
    "\n",
    "##Other\n",
    "gss[\"angryother\"]=0\n",
    "gss.loc[(gss.madat17 ==1), 'angryother'] = 1\n",
    "gss.loc[(gss.madat18 ==1), 'angryother'] = 1\n",
    "gss.loc[(gss.madat19 ==1), 'angryother'] = 1\n",
    "gss.loc[(gss.madat20 ==1), 'angryother'] = 1\n",
    "gss.loc[(gss.madat22 ==1), 'angryother'] = 1\n",
    "gss.loc[(gss.madat23 >3), 'angryother'] = 1\n",
    "\n",
    "gss[\"angrysource\"]=0\n",
    "gss.loc[(gss.angryfamily ==1), 'angrysource'] = 1\n",
    "gss.loc[(gss.angryfriend ==1), 'angrysource'] = 2\n",
    "gss.loc[(gss.angrywork ==1), 'angrysource'] = 3\n",
    "gss.loc[(gss.angryself ==1), 'angrysource'] = 4\n",
    "gss.loc[(gss.angryother ==1), 'angrysource'] = 5\n",
    "gss.loc[(gss.madat23 == None), 'angrysource'] = 0"
   ]
  },
  {
   "cell_type": "code",
   "execution_count": 98,
   "metadata": {},
   "outputs": [],
   "source": [
    "#Interaction Variables\n",
    "#These variables allow us to discern whether interaction effects are relevant in this model\n",
    "\n",
    "##sex interactions\n",
    "gss[\"sexage\"]=gss[\"sex_r\"]*gss[\"age_c\"]\n",
    "gss[\"sexrace\"]=gss[\"sex_r\"]*gss[\"race_r\"]\n",
    "gss[\"sexcollege\"]=gss[\"sex_r\"]*gss[\"degree_r\"]\n",
    "gss[\"sexregion\"]=gss[\"sex_r\"]*gss[\"region_r\"]\n",
    "gss[\"sexmarital\"]=gss[\"sex_r\"]*gss[\"marital_r\"]\n",
    "gss[\"sexchilds\"]=gss[\"sex_r\"]*gss[\"childs_r\"]\n",
    "gss[\"sexfund\"]=gss[\"sex_r\"]*gss[\"fund_r\"]\n",
    "gss[\"sexpray\"]=gss[\"sex_r\"]*gss[\"pray_r\"]\n",
    "gss[\"sexreligion\"]=gss[\"sex_r\"]*gss[\"reltrad\"]\n",
    "gss[\"sexattend\"]=gss[\"sex_r\"]*gss[\"attend\"]\n",
    "gss[\"sexhowangry\"]=gss[\"sex_r\"]*gss[\"howangry\"]\n",
    "gss[\"sexangrysource\"]=gss[\"sex_r\"]*gss[\"angrysource\"]\n",
    "\n",
    "##race interactions\n",
    "gss[\"raceage\"]=gss[\"race_r\"]*gss[\"age_c\"]\n",
    "gss[\"racecollege\"]=gss[\"race_r\"]*gss[\"degree_r\"]\n",
    "gss[\"raceregion\"]=gss[\"race_r\"]*gss[\"region_r\"]\n",
    "gss[\"racemarital\"]=gss[\"race_r\"]*gss[\"marital_r\"]\n",
    "gss[\"racechilds\"]=gss[\"race_r\"]*gss[\"childs_r\"]\n",
    "gss[\"racefund\"]=gss[\"race_r\"]*gss[\"fund_r\"]\n",
    "gss[\"racepray\"]=gss[\"race_r\"]*gss[\"pray_r\"]\n",
    "gss[\"racereligion\"]=gss[\"race_r\"]*gss[\"reltrad\"]\n",
    "gss[\"raceattend\"]=gss[\"race_r\"]*gss[\"attend\"]\n",
    "gss[\"racehowangry\"]=gss[\"race_r\"]*gss[\"howangry\"]\n",
    "gss[\"raceangrysource\"]=gss[\"race_r\"]*gss[\"angrysource\"]\n",
    "\n",
    "##degree interactions\n",
    "gss[\"degreeage\"]=gss[\"degree_r\"]*gss[\"age_c\"]\n",
    "gss[\"degreeregion\"]=gss[\"degree_r\"]*gss[\"region_r\"]\n",
    "gss[\"degreemarital\"]=gss[\"degree_r\"]*gss[\"marital_r\"]\n",
    "gss[\"degreechilds\"]=gss[\"degree_r\"]*gss[\"childs_r\"]\n",
    "gss[\"degreefund\"]=gss[\"degree_r\"]*gss[\"fund_r\"]\n",
    "gss[\"degreepray\"]=gss[\"degree\"]*gss[\"pray_r\"]\n",
    "gss[\"degreereligion\"]=gss[\"degree_r\"]*gss[\"reltrad\"]\n",
    "gss[\"degreeattend\"]=gss[\"degree_r\"]*gss[\"attend\"]\n",
    "gss[\"degreehowangry\"]=gss[\"degree_r\"]*gss[\"howangry\"]\n",
    "gss[\"degreeangrysource\"]=gss[\"degree_r\"]*gss[\"angrysource\"]\n",
    "\n",
    "##age interactions\n",
    "gss[\"ageregion\"]=gss[\"age_c\"]*gss[\"region_r\"]\n",
    "gss[\"agemarital\"]=gss[\"age_c\"]*gss[\"marital_r\"]\n",
    "gss[\"agechilds\"]=gss[\"age_c\"]*gss[\"childs_r\"]\n",
    "gss[\"agefund\"]=gss[\"age_c\"]*gss[\"fund_r\"]\n",
    "gss[\"agepray\"]=gss[\"age\"]*gss[\"pray_r\"]\n",
    "gss[\"agereligion\"]=gss[\"age_c\"]*gss[\"reltrad\"]\n",
    "gss[\"ageattend\"]=gss[\"age_c\"]*gss[\"attend\"]\n",
    "gss[\"agehowangry\"]=gss[\"age_c\"]*gss[\"howangry\"]\n",
    "gss[\"ageangrysource\"]=gss[\"age_c\"]*gss[\"angrysource\"]\n",
    "\n",
    "##region interactions\n",
    "gss[\"regionmarital\"]=gss[\"region_r\"]*gss[\"marital_r\"]\n",
    "gss[\"regionchilds\"]=gss[\"region_r\"]*gss[\"childs_r\"]\n",
    "gss[\"regionfund\"]=gss[\"region_r\"]*gss[\"fund_r\"]\n",
    "gss[\"regionpray\"]=gss[\"region\"]*gss[\"pray_r\"]\n",
    "gss[\"regionreligion\"]=gss[\"region_r\"]*gss[\"reltrad\"]\n",
    "gss[\"regionattend\"]=gss[\"region_r\"]*gss[\"attend\"]\n",
    "gss[\"regionhowangry\"]=gss[\"region_r\"]*gss[\"howangry\"]\n",
    "gss[\"regionangrysource\"]=gss[\"region_r\"]*gss[\"angrysource\"]\n",
    "\n",
    "##marital interactions\n",
    "gss[\"maritalchilds\"]=gss[\"marital_r\"]*gss[\"childs_r\"]\n",
    "gss[\"maritalfund\"]=gss[\"marital_r\"]*gss[\"fund_r\"]\n",
    "gss[\"maritalpray\"]=gss[\"marital\"]*gss[\"pray_r\"]\n",
    "gss[\"maritalreligion\"]=gss[\"marital_r\"]*gss[\"reltrad\"]\n",
    "gss[\"maritalattend\"]=gss[\"marital_r\"]*gss[\"attend\"]\n",
    "gss[\"maritalhowangry\"]=gss[\"marital_r\"]*gss[\"howangry\"]\n",
    "gss[\"maritalangrysource\"]=gss[\"marital_r\"]*gss[\"angrysource\"]\n",
    "\n",
    "##childs interactions\n",
    "gss[\"childsfund\"]=gss[\"childs_r\"]*gss[\"fund_r\"]\n",
    "gss[\"childspray\"]=gss[\"childs\"]*gss[\"pray_r\"]\n",
    "gss[\"childsreligion\"]=gss[\"childs_r\"]*gss[\"reltrad\"]\n",
    "gss[\"childsattend\"]=gss[\"childs_r\"]*gss[\"attend\"]\n",
    "gss[\"childshowangry\"]=gss[\"childs_r\"]*gss[\"howangry\"]\n",
    "gss[\"childsangrysource\"]=gss[\"childs_r\"]*gss[\"angrysource\"]\n",
    "\n",
    "##fundamentalist interactions\n",
    "gss[\"fundfund\"]=gss[\"fund_r\"]*gss[\"fund_r\"]\n",
    "gss[\"fundpray\"]=gss[\"fund\"]*gss[\"pray_r\"]\n",
    "gss[\"fundreligion\"]=gss[\"fund_r\"]*gss[\"reltrad\"]\n",
    "gss[\"fundattend\"]=gss[\"fund_r\"]*gss[\"attend\"]\n",
    "gss[\"fundhowangry\"]=gss[\"fund_r\"]*gss[\"howangry\"]\n",
    "gss[\"fundangrysource\"]=gss[\"fund_r\"]*gss[\"angrysource\"]\n",
    "\n",
    "#pray interactions\n",
    "gss[\"prayreligion\"]=gss[\"pray_r\"]*gss[\"reltrad\"]\n",
    "gss[\"prayattend\"]=gss[\"pray_r\"]*gss[\"attend\"]\n",
    "gss[\"prayhowangry\"]=gss[\"pray_r\"]*gss[\"howangry\"]\n",
    "gss[\"prayangrysource\"]=gss[\"pray_r\"]*gss[\"angrysource\"]\n",
    "\n",
    "##religion interactions\n",
    "gss[\"religionattend\"]=gss[\"attend\"]*gss[\"reltrad\"]\n",
    "gss[\"religionhowangry\"]=gss[\"reltrad\"]*gss[\"howangry\"]\n",
    "gss[\"attendangrysource\"]=gss[\"reltrad\"]*gss[\"angrysource\"]\n",
    "\n",
    "##attend interactions\n",
    "gss[\"attendhowangry\"]=gss[\"attend\"]*gss[\"howangry\"]\n",
    "gss[\"attendangrysource\"]=gss[\"attend\"]*gss[\"angrysource\"]\n",
    "\n",
    "##howangry interactions\n",
    "gss[\"howangryangrysource\"]=gss[\"howangry\"]*gss[\"angrysource\"]\n",
    "\n"
   ]
  },
  {
   "cell_type": "code",
   "execution_count": 99,
   "metadata": {},
   "outputs": [],
   "source": [
    "reltrad_db=gss.to_stata(\"reltrad_data.dta\")\n",
    "converted_pd = pd.io.stata.read_stata('reltrad_data.dta', convert_categoricals=True)"
   ]
  },
  {
   "cell_type": "code",
   "execution_count": 100,
   "metadata": {},
   "outputs": [],
   "source": [
    "#Imputing missing values\n",
    "########################\n",
    "\n",
    "#Dataset with means of each column imputed\n"
   ]
  },
  {
   "cell_type": "code",
   "execution_count": null,
   "metadata": {},
   "outputs": [],
   "source": [
    "gss_complete=pd.DataFrame()"
   ]
  },
  {
   "cell_type": "code",
   "execution_count": 109,
   "metadata": {},
   "outputs": [],
   "source": [
    "#Impute the modes for the categorical varaibles by\n",
    "#1.bringing in a dataset with categorical variables labeled as strings\n",
    "\n",
    "gss_modes=pd.read_csv(\"GSS_1996.csv\")\n",
    "for varname in gss_modes:\n",
    "    try:\n",
    "        mean=gss_modes[f\"{varname}\"].mean() #if the columns are not numeric, this will fail.\n",
    "    except:\n",
    "        mode=gss_modes[f\"{varname}\"].mode()\n",
    "        gss_modes.loc[(gss_modes[f\"{varname}\"].isnull()), varname] = mode\n",
    "        gss_complete.append(gss_modes[f\"{varname}\"])\n",
    "#2.comparing this dataset to the purely numeric one, identifying string variables\n",
    "#3.Creating a dataframe to store variables with modes imputed\n",
    "#3.imputing the mode for these variables only in the new dataframe"
   ]
  },
  {
   "cell_type": "code",
   "execution_count": 110,
   "metadata": {},
   "outputs": [
    {
     "output_type": "execute_result",
     "data": {
      "text/plain": [
       "Empty DataFrame\n",
       "Columns: []\n",
       "Index: []"
      ],
      "text/html": "<div>\n<style scoped>\n    .dataframe tbody tr th:only-of-type {\n        vertical-align: middle;\n    }\n\n    .dataframe tbody tr th {\n        vertical-align: top;\n    }\n\n    .dataframe thead th {\n        text-align: right;\n    }\n</style>\n<table border=\"1\" class=\"dataframe\">\n  <thead>\n    <tr style=\"text-align: right;\">\n      <th></th>\n    </tr>\n  </thead>\n  <tbody>\n  </tbody>\n</table>\n</div>"
     },
     "metadata": {},
     "execution_count": 110
    }
   ],
   "source": [
    "gss_complete"
   ]
  },
  {
   "cell_type": "code",
   "execution_count": 47,
   "metadata": {
    "tags": []
   },
   "outputs": [],
   "source": [
    "#Create a dataframe with the means imputed for every missing value\n",
    "gss_means=gss.copy(deep=True)\n",
    "for varname in gss_means:\n",
    "    mean=gss_means[varname].mean()\n",
    "    gss_means.loc[(gss_means[varname].isnull()), varname] = mean"
   ]
  },
  {
   "cell_type": "code",
   "execution_count": 1,
   "metadata": {},
   "outputs": [],
   "source": [
    "from fancyimpute import KNN, NuclearNormMinimization, SoftImpute, BiScaler"
   ]
  },
  {
   "cell_type": "code",
   "execution_count": 6,
   "metadata": {
    "tags": []
   },
   "outputs": [
    {
     "output_type": "stream",
     "name": "stdout",
     "text": "Imputing row 1/2904 with 616 missing, elapsed time: 100.518\nImputing row 101/2904 with 604 missing, elapsed time: 102.887\nImputing row 201/2904 with 602 missing, elapsed time: 104.709\nImputing row 301/2904 with 566 missing, elapsed time: 106.560\nImputing row 401/2904 with 562 missing, elapsed time: 108.795\nImputing row 501/2904 with 661 missing, elapsed time: 110.737\nImputing row 601/2904 with 698 missing, elapsed time: 112.995\nImputing row 701/2904 with 709 missing, elapsed time: 116.214\nImputing row 801/2904 with 645 missing, elapsed time: 119.876\nImputing row 901/2904 with 610 missing, elapsed time: 122.252\nImputing row 1001/2904 with 584 missing, elapsed time: 124.302\nImputing row 1101/2904 with 603 missing, elapsed time: 126.376\nImputing row 1201/2904 with 608 missing, elapsed time: 128.514\nImputing row 1301/2904 with 584 missing, elapsed time: 130.728\nImputing row 1401/2904 with 590 missing, elapsed time: 132.950\nImputing row 1501/2904 with 846 missing, elapsed time: 134.979\nImputing row 1601/2904 with 585 missing, elapsed time: 136.976\nImputing row 1701/2904 with 685 missing, elapsed time: 138.821\nImputing row 1801/2904 with 687 missing, elapsed time: 140.726\nImputing row 1901/2904 with 619 missing, elapsed time: 142.678\nImputing row 2001/2904 with 593 missing, elapsed time: 144.484\nImputing row 2101/2904 with 612 missing, elapsed time: 146.239\nImputing row 2201/2904 with 676 missing, elapsed time: 147.969\nImputing row 2301/2904 with 656 missing, elapsed time: 149.714\nImputing row 2401/2904 with 620 missing, elapsed time: 151.536\nImputing row 2501/2904 with 589 missing, elapsed time: 153.333\nImputing row 2601/2904 with 615 missing, elapsed time: 155.267\nImputing row 2701/2904 with 617 missing, elapsed time: 157.033\nImputing row 2801/2904 with 572 missing, elapsed time: 158.873\nImputing row 2901/2904 with 573 missing, elapsed time: 160.566\n[KNN] Warning: 2904/3290232 still missing after imputation, replacing with 0\n"
    }
   ],
   "source": [
    "X_filled_knn = KNN(k=3).fit_transform(gss)"
   ]
  }
 ]
}