{
 "metadata": {
  "language_info": {
   "codemirror_mode": {
    "name": "ipython",
    "version": 3
   },
   "file_extension": ".py",
   "mimetype": "text/x-python",
   "name": "python",
   "nbconvert_exporter": "python",
   "pygments_lexer": "ipython3",
   "version": "3.6.10-final"
  },
  "orig_nbformat": 2,
  "kernelspec": {
   "name": "Python 3.6.10 64-bit ('PythonDataViz': conda)",
   "display_name": "Python 3.6.10 64-bit ('PythonDataViz': conda)",
   "metadata": {
    "interpreter": {
     "hash": "bf22694ddad83215ad78bc972cde8cb58515e421a38123c7c27529fee405ae73"
    }
   }
  }
 },
 "nbformat": 4,
 "nbformat_minor": 2,
 "cells": [
  {
   "cell_type": "code",
   "execution_count": 40,
   "metadata": {},
   "outputs": [],
   "source": [
    "#dependencies\n",
    "import pandas as pd\n",
    "import math\n"
   ]
  },
  {
   "cell_type": "code",
   "execution_count": 41,
   "metadata": {},
   "outputs": [],
   "source": [
    "#Bring in the dataset\n",
    "gss = pd.io.stata.read_stata('GSS1996.dta', convert_categoricals=False)\n",
    "gss.to_csv('gss_converted.csv')"
   ]
  },
  {
   "cell_type": "code",
   "execution_count": 42,
   "metadata": {},
   "outputs": [],
   "source": [
    "#drop all instances where angry event was not recalled\n",
    "gss=gss.dropna(subset=[\"chnang7\"])"
   ]
  },
  {
   "cell_type": "code",
   "execution_count": 43,
   "metadata": {},
   "outputs": [],
   "source": [
    "#Recode DV to dummy\n",
    "gss[\"pray_anger\"]=gss[\"chnang7\"]\n",
    "gss.loc[gss.chnang7 == 2, 'pray_anger'] = 0"
   ]
  },
  {
   "cell_type": "code",
   "execution_count": 44,
   "metadata": {},
   "outputs": [],
   "source": [
    "#Recode sex to dummy, reference category = \"male\"\n",
    "gss[\"sex_r\"]=gss[\"sex\"]\n",
    "gss.loc[gss.sex == 1, 'sex_r'] = 0\n",
    "gss.loc[gss.sex == 2, 'sex_r'] = 1"
   ]
  },
  {
   "cell_type": "code",
   "execution_count": 48,
   "metadata": {},
   "outputs": [],
   "source": [
    "#Recode race to dummy, reference category = \"white\"\n",
    "gss[\"race_r\"]=gss[\"race\"]\n",
    "gss.loc[gss.race == 1, 'race_r'] = 0\n",
    "gss.loc[gss.race > 1, 'race_r'] = 1"
   ]
  },
  {
   "cell_type": "code",
   "execution_count": 55,
   "metadata": {},
   "outputs": [],
   "source": [
    "#Recode degree to dummy, reference category = \"has degree\" (note that in original study, ref cat was NO degree)\n",
    "gss[\"degree_r\"]=gss[\"degree\"]\n",
    "gss.loc[gss.degree <=3, 'degree_r'] = 0\n",
    "gss.loc[gss.degree > 3, 'degree_r'] = 1"
   ]
  },
  {
   "cell_type": "code",
   "execution_count": 66,
   "metadata": {},
   "outputs": [],
   "source": [
    "#Recode region to dummy, reference category = \"From South\"\n",
    "gss[\"region_r\"]=gss[\"region\"]\n",
    "gss.loc[(gss.region <=4) | (gss.region >7), 'region_r'] = 0\n",
    "gss.loc[(gss.region >=5) & (gss.region <=7), 'region_r'] = 1"
   ]
  },
  {
   "cell_type": "code",
   "execution_count": 68,
   "metadata": {},
   "outputs": [
    {
     "output_type": "execute_result",
     "data": {
      "text/plain": "array([0, 1], dtype=int8)"
     },
     "metadata": {},
     "execution_count": 68
    }
   ],
   "source": []
  },
  {
   "cell_type": "code",
   "execution_count": null,
   "metadata": {},
   "outputs": [],
   "source": []
  }
 ]
}