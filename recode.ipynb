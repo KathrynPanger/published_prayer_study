{
 "metadata": {
  "language_info": {
   "codemirror_mode": {
    "name": "ipython",
    "version": 3
   },
   "file_extension": ".py",
   "mimetype": "text/x-python",
   "name": "python",
   "nbconvert_exporter": "python",
   "pygments_lexer": "ipython3",
   "version": "3.6.10-final"
  },
  "orig_nbformat": 2,
  "kernelspec": {
   "name": "Python 3.6.10 64-bit ('PythonDataViz': conda)",
   "display_name": "Python 3.6.10 64-bit ('PythonDataViz': conda)",
   "metadata": {
    "interpreter": {
     "hash": "bf22694ddad83215ad78bc972cde8cb58515e421a38123c7c27529fee405ae73"
    }
   }
  }
 },
 "nbformat": 4,
 "nbformat_minor": 2,
 "cells": [
  {
   "cell_type": "code",
   "execution_count": 16,
   "metadata": {},
   "outputs": [],
   "source": [
    "#dependencies\n",
    "import pandas as pd\n",
    "import math\n"
   ]
  },
  {
   "cell_type": "code",
   "execution_count": 3,
   "metadata": {},
   "outputs": [],
   "source": [
    "#Bring in the dataset\n",
    "gss = pd.io.stata.read_stata('GSS1996.dta', convert_categoricals=False)\n",
    "gss.to_csv('gss_converted.csv')"
   ]
  },
  {
   "cell_type": "code",
   "execution_count": 33,
   "metadata": {},
   "outputs": [],
   "source": [
    "#drop all instances where angry event was not recalled\n",
    "gss=gss.dropna(subset=[\"chnang7\"])"
   ]
  }
 ]
}