{
 "metadata": {
  "language_info": {
   "codemirror_mode": {
    "name": "ipython",
    "version": 3
   },
   "file_extension": ".py",
   "mimetype": "text/x-python",
   "name": "python",
   "nbconvert_exporter": "python",
   "pygments_lexer": "ipython3",
   "version": "3.6.10-final"
  },
  "orig_nbformat": 2,
  "kernelspec": {
   "name": "python361064bitpythondatavizcondaed56fc30986a464784f8a472c80ebaf6",
   "display_name": "Python 3.6.10 64-bit ('PythonDataViz': conda)"
  }
 },
 "nbformat": 4,
 "nbformat_minor": 2,
 "cells": [
  {
   "cell_type": "code",
   "execution_count": 17,
   "metadata": {},
   "outputs": [],
   "source": [
    "import matplotlib.pyplot as plt\n",
    "import numpy as np\n",
    "import pandas as pd\n",
    "from sklearn.datasets import make_regression\n",
    "from sklearn.experimental import enable_iterative_imputer\n",
    "from sklearn.impute import IterativeImputer\n",
    "from sklearn.datasets import make_s_curve\n",
    "from sklearn.linear_model import LinearRegression"
   ]
  },
  {
   "cell_type": "code",
   "execution_count": 81,
   "metadata": {},
   "outputs": [],
   "source": [
    "x, y = make_regression(n_samples=20, n_features=1, random_state=6, noise=50, bias=100.0)\n",
    "x_transform=[]\n",
    "for i in range(0,len(x)):\n",
    "    x_transform.append(x[i][0])"
   ]
  },
  {
   "cell_type": "code",
   "execution_count": 10,
   "metadata": {},
   "outputs": [
    {
     "output_type": "execute_result",
     "data": {
      "text/plain": "<matplotlib.collections.PathCollection at 0x1fa8f1231d0>"
     },
     "metadata": {},
     "execution_count": 10
    },
    {
     "output_type": "display_data",
     "data": {
      "text/plain": "<Figure size 432x288 with 1 Axes>",
      "image/svg+xml": "<?xml version=\"1.0\" encoding=\"utf-8\" standalone=\"no\"?>\r\n<!DOCTYPE svg PUBLIC \"-//W3C//DTD SVG 1.1//EN\"\r\n  \"http://www.w3.org/Graphics/SVG/1.1/DTD/svg11.dtd\">\r\n<!-- Created with matplotlib (https://matplotlib.org/) -->\r\n<svg height=\"248.518125pt\" version=\"1.1\" viewBox=\"0 0 377.304687 248.518125\" width=\"377.304687pt\" xmlns=\"http://www.w3.org/2000/svg\" xmlns:xlink=\"http://www.w3.org/1999/xlink\">\r\n <defs>\r\n  <style type=\"text/css\">\r\n*{stroke-linecap:butt;stroke-linejoin:round;}\r\n  </style>\r\n </defs>\r\n <g id=\"figure_1\">\r\n  <g id=\"patch_1\">\r\n   <path d=\"M 0 248.518125 \r\nL 377.304687 248.518125 \r\nL 377.304687 0 \r\nL 0 0 \r\nz\r\n\" style=\"fill:none;\"/>\r\n  </g>\r\n  <g id=\"axes_1\">\r\n   <g id=\"patch_2\">\r\n    <path d=\"M 35.304688 224.64 \r\nL 370.104688 224.64 \r\nL 370.104688 7.2 \r\nL 35.304688 7.2 \r\nz\r\n\" style=\"fill:#ffffff;\"/>\r\n   </g>\r\n   <g id=\"PathCollection_1\">\r\n    <defs>\r\n     <path d=\"M 0 3 \r\nC 0.795609 3 1.55874 2.683901 2.12132 2.12132 \r\nC 2.683901 1.55874 3 0.795609 3 0 \r\nC 3 -0.795609 2.683901 -1.55874 2.12132 -2.12132 \r\nC 1.55874 -2.683901 0.795609 -3 0 -3 \r\nC -0.795609 -3 -1.55874 -2.683901 -2.12132 -2.12132 \r\nC -2.683901 -1.55874 -3 -0.795609 -3 0 \r\nC -3 0.795609 -2.683901 1.55874 -2.12132 2.12132 \r\nC -1.55874 2.683901 -0.795609 3 0 3 \r\nz\r\n\" id=\"m2b67f3e93d\" style=\"stroke:#1f77b4;\"/>\r\n    </defs>\r\n    <g clip-path=\"url(#p75fb77f059)\">\r\n     <use style=\"fill:#1f77b4;stroke:#1f77b4;\" x=\"179.946457\" xlink:href=\"#m2b67f3e93d\" y=\"166.49742\"/>\r\n     <use style=\"fill:#1f77b4;stroke:#1f77b4;\" x=\"271.772708\" xlink:href=\"#m2b67f3e93d\" y=\"69.260872\"/>\r\n     <use style=\"fill:#1f77b4;stroke:#1f77b4;\" x=\"145.141969\" xlink:href=\"#m2b67f3e93d\" y=\"139.992949\"/>\r\n     <use style=\"fill:#1f77b4;stroke:#1f77b4;\" x=\"246.463336\" xlink:href=\"#m2b67f3e93d\" y=\"101.780391\"/>\r\n     <use style=\"fill:#1f77b4;stroke:#1f77b4;\" x=\"234.087691\" xlink:href=\"#m2b67f3e93d\" y=\"108.749084\"/>\r\n     <use style=\"fill:#1f77b4;stroke:#1f77b4;\" x=\"108.696347\" xlink:href=\"#m2b67f3e93d\" y=\"129.421732\"/>\r\n     <use style=\"fill:#1f77b4;stroke:#1f77b4;\" x=\"178.518388\" xlink:href=\"#m2b67f3e93d\" y=\"75.255041\"/>\r\n     <use style=\"fill:#1f77b4;stroke:#1f77b4;\" x=\"51.053882\" xlink:href=\"#m2b67f3e93d\" y=\"214.7463\"/>\r\n     <use style=\"fill:#1f77b4;stroke:#1f77b4;\" x=\"206.076717\" xlink:href=\"#m2b67f3e93d\" y=\"48.073165\"/>\r\n     <use style=\"fill:#1f77b4;stroke:#1f77b4;\" x=\"205.008651\" xlink:href=\"#m2b67f3e93d\" y=\"130.111868\"/>\r\n     <use style=\"fill:#1f77b4;stroke:#1f77b4;\" x=\"211.331366\" xlink:href=\"#m2b67f3e93d\" y=\"104.537655\"/>\r\n     <use style=\"fill:#1f77b4;stroke:#1f77b4;\" x=\"236.007931\" xlink:href=\"#m2b67f3e93d\" y=\"26.271731\"/>\r\n     <use style=\"fill:#1f77b4;stroke:#1f77b4;\" x=\"189.230025\" xlink:href=\"#m2b67f3e93d\" y=\"110.646214\"/>\r\n     <use style=\"fill:#1f77b4;stroke:#1f77b4;\" x=\"295.569169\" xlink:href=\"#m2b67f3e93d\" y=\"17.0937\"/>\r\n     <use style=\"fill:#1f77b4;stroke:#1f77b4;\" x=\"354.355493\" xlink:href=\"#m2b67f3e93d\" y=\"22.300414\"/>\r\n     <use style=\"fill:#1f77b4;stroke:#1f77b4;\" x=\"252.543312\" xlink:href=\"#m2b67f3e93d\" y=\"98.277947\"/>\r\n     <use style=\"fill:#1f77b4;stroke:#1f77b4;\" x=\"202.934482\" xlink:href=\"#m2b67f3e93d\" y=\"108.911695\"/>\r\n     <use style=\"fill:#1f77b4;stroke:#1f77b4;\" x=\"172.94714\" xlink:href=\"#m2b67f3e93d\" y=\"129.168009\"/>\r\n     <use style=\"fill:#1f77b4;stroke:#1f77b4;\" x=\"241.624608\" xlink:href=\"#m2b67f3e93d\" y=\"70.00415\"/>\r\n     <use style=\"fill:#1f77b4;stroke:#1f77b4;\" x=\"265.214045\" xlink:href=\"#m2b67f3e93d\" y=\"18.466675\"/>\r\n    </g>\r\n   </g>\r\n   <g id=\"matplotlib.axis_1\">\r\n    <g id=\"xtick_1\">\r\n     <g id=\"line2d_1\">\r\n      <defs>\r\n       <path d=\"M 0 0 \r\nL 0 3.5 \r\n\" id=\"mad49533e1c\" style=\"stroke:#000000;stroke-width:0.8;\"/>\r\n      </defs>\r\n      <g>\r\n       <use style=\"stroke:#000000;stroke-width:0.8;\" x=\"79.901008\" xlink:href=\"#mad49533e1c\" y=\"224.64\"/>\r\n      </g>\r\n     </g>\r\n     <g id=\"text_1\">\r\n      <!-- −2 -->\r\n      <defs>\r\n       <path d=\"M 10.59375 35.5 \r\nL 73.1875 35.5 \r\nL 73.1875 27.203125 \r\nL 10.59375 27.203125 \r\nz\r\n\" id=\"DejaVuSans-8722\"/>\r\n       <path d=\"M 19.1875 8.296875 \r\nL 53.609375 8.296875 \r\nL 53.609375 0 \r\nL 7.328125 0 \r\nL 7.328125 8.296875 \r\nQ 12.9375 14.109375 22.625 23.890625 \r\nQ 32.328125 33.6875 34.8125 36.53125 \r\nQ 39.546875 41.84375 41.421875 45.53125 \r\nQ 43.3125 49.21875 43.3125 52.78125 \r\nQ 43.3125 58.59375 39.234375 62.25 \r\nQ 35.15625 65.921875 28.609375 65.921875 \r\nQ 23.96875 65.921875 18.8125 64.3125 \r\nQ 13.671875 62.703125 7.8125 59.421875 \r\nL 7.8125 69.390625 \r\nQ 13.765625 71.78125 18.9375 73 \r\nQ 24.125 74.21875 28.421875 74.21875 \r\nQ 39.75 74.21875 46.484375 68.546875 \r\nQ 53.21875 62.890625 53.21875 53.421875 \r\nQ 53.21875 48.921875 51.53125 44.890625 \r\nQ 49.859375 40.875 45.40625 35.40625 \r\nQ 44.1875 33.984375 37.640625 27.21875 \r\nQ 31.109375 20.453125 19.1875 8.296875 \r\nz\r\n\" id=\"DejaVuSans-50\"/>\r\n      </defs>\r\n      <g transform=\"translate(72.529914 239.238437)scale(0.1 -0.1)\">\r\n       <use xlink:href=\"#DejaVuSans-8722\"/>\r\n       <use x=\"83.789062\" xlink:href=\"#DejaVuSans-50\"/>\r\n      </g>\r\n     </g>\r\n    </g>\r\n    <g id=\"xtick_2\">\r\n     <g id=\"line2d_2\">\r\n      <g>\r\n       <use style=\"stroke:#000000;stroke-width:0.8;\" x=\"139.162044\" xlink:href=\"#mad49533e1c\" y=\"224.64\"/>\r\n      </g>\r\n     </g>\r\n     <g id=\"text_2\">\r\n      <!-- −1 -->\r\n      <defs>\r\n       <path d=\"M 12.40625 8.296875 \r\nL 28.515625 8.296875 \r\nL 28.515625 63.921875 \r\nL 10.984375 60.40625 \r\nL 10.984375 69.390625 \r\nL 28.421875 72.90625 \r\nL 38.28125 72.90625 \r\nL 38.28125 8.296875 \r\nL 54.390625 8.296875 \r\nL 54.390625 0 \r\nL 12.40625 0 \r\nz\r\n\" id=\"DejaVuSans-49\"/>\r\n      </defs>\r\n      <g transform=\"translate(131.79095 239.238437)scale(0.1 -0.1)\">\r\n       <use xlink:href=\"#DejaVuSans-8722\"/>\r\n       <use x=\"83.789062\" xlink:href=\"#DejaVuSans-49\"/>\r\n      </g>\r\n     </g>\r\n    </g>\r\n    <g id=\"xtick_3\">\r\n     <g id=\"line2d_3\">\r\n      <g>\r\n       <use style=\"stroke:#000000;stroke-width:0.8;\" x=\"198.42308\" xlink:href=\"#mad49533e1c\" y=\"224.64\"/>\r\n      </g>\r\n     </g>\r\n     <g id=\"text_3\">\r\n      <!-- 0 -->\r\n      <defs>\r\n       <path d=\"M 31.78125 66.40625 \r\nQ 24.171875 66.40625 20.328125 58.90625 \r\nQ 16.5 51.421875 16.5 36.375 \r\nQ 16.5 21.390625 20.328125 13.890625 \r\nQ 24.171875 6.390625 31.78125 6.390625 \r\nQ 39.453125 6.390625 43.28125 13.890625 \r\nQ 47.125 21.390625 47.125 36.375 \r\nQ 47.125 51.421875 43.28125 58.90625 \r\nQ 39.453125 66.40625 31.78125 66.40625 \r\nz\r\nM 31.78125 74.21875 \r\nQ 44.046875 74.21875 50.515625 64.515625 \r\nQ 56.984375 54.828125 56.984375 36.375 \r\nQ 56.984375 17.96875 50.515625 8.265625 \r\nQ 44.046875 -1.421875 31.78125 -1.421875 \r\nQ 19.53125 -1.421875 13.0625 8.265625 \r\nQ 6.59375 17.96875 6.59375 36.375 \r\nQ 6.59375 54.828125 13.0625 64.515625 \r\nQ 19.53125 74.21875 31.78125 74.21875 \r\nz\r\n\" id=\"DejaVuSans-48\"/>\r\n      </defs>\r\n      <g transform=\"translate(195.24183 239.238437)scale(0.1 -0.1)\">\r\n       <use xlink:href=\"#DejaVuSans-48\"/>\r\n      </g>\r\n     </g>\r\n    </g>\r\n    <g id=\"xtick_4\">\r\n     <g id=\"line2d_4\">\r\n      <g>\r\n       <use style=\"stroke:#000000;stroke-width:0.8;\" x=\"257.684117\" xlink:href=\"#mad49533e1c\" y=\"224.64\"/>\r\n      </g>\r\n     </g>\r\n     <g id=\"text_4\">\r\n      <!-- 1 -->\r\n      <g transform=\"translate(254.502867 239.238437)scale(0.1 -0.1)\">\r\n       <use xlink:href=\"#DejaVuSans-49\"/>\r\n      </g>\r\n     </g>\r\n    </g>\r\n    <g id=\"xtick_5\">\r\n     <g id=\"line2d_5\">\r\n      <g>\r\n       <use style=\"stroke:#000000;stroke-width:0.8;\" x=\"316.945153\" xlink:href=\"#mad49533e1c\" y=\"224.64\"/>\r\n      </g>\r\n     </g>\r\n     <g id=\"text_5\">\r\n      <!-- 2 -->\r\n      <g transform=\"translate(313.763903 239.238437)scale(0.1 -0.1)\">\r\n       <use xlink:href=\"#DejaVuSans-50\"/>\r\n      </g>\r\n     </g>\r\n    </g>\r\n   </g>\r\n   <g id=\"matplotlib.axis_2\">\r\n    <g id=\"ytick_1\">\r\n     <g id=\"line2d_6\">\r\n      <defs>\r\n       <path d=\"M 0 0 \r\nL -3.5 0 \r\n\" id=\"mdf429872ed\" style=\"stroke:#000000;stroke-width:0.8;\"/>\r\n      </defs>\r\n      <g>\r\n       <use style=\"stroke:#000000;stroke-width:0.8;\" x=\"35.304688\" xlink:href=\"#mdf429872ed\" y=\"221.327033\"/>\r\n      </g>\r\n     </g>\r\n     <g id=\"text_6\">\r\n      <!-- −50 -->\r\n      <defs>\r\n       <path d=\"M 10.796875 72.90625 \r\nL 49.515625 72.90625 \r\nL 49.515625 64.59375 \r\nL 19.828125 64.59375 \r\nL 19.828125 46.734375 \r\nQ 21.96875 47.46875 24.109375 47.828125 \r\nQ 26.265625 48.1875 28.421875 48.1875 \r\nQ 40.625 48.1875 47.75 41.5 \r\nQ 54.890625 34.8125 54.890625 23.390625 \r\nQ 54.890625 11.625 47.5625 5.09375 \r\nQ 40.234375 -1.421875 26.90625 -1.421875 \r\nQ 22.3125 -1.421875 17.546875 -0.640625 \r\nQ 12.796875 0.140625 7.71875 1.703125 \r\nL 7.71875 11.625 \r\nQ 12.109375 9.234375 16.796875 8.0625 \r\nQ 21.484375 6.890625 26.703125 6.890625 \r\nQ 35.15625 6.890625 40.078125 11.328125 \r\nQ 45.015625 15.765625 45.015625 23.390625 \r\nQ 45.015625 31 40.078125 35.4375 \r\nQ 35.15625 39.890625 26.703125 39.890625 \r\nQ 22.75 39.890625 18.8125 39.015625 \r\nQ 14.890625 38.140625 10.796875 36.28125 \r\nz\r\n\" id=\"DejaVuSans-53\"/>\r\n      </defs>\r\n      <g transform=\"translate(7.2 225.126252)scale(0.1 -0.1)\">\r\n       <use xlink:href=\"#DejaVuSans-8722\"/>\r\n       <use x=\"83.789062\" xlink:href=\"#DejaVuSans-53\"/>\r\n       <use x=\"147.412109\" xlink:href=\"#DejaVuSans-48\"/>\r\n      </g>\r\n     </g>\r\n    </g>\r\n    <g id=\"ytick_2\">\r\n     <g id=\"line2d_7\">\r\n      <g>\r\n       <use style=\"stroke:#000000;stroke-width:0.8;\" x=\"35.304688\" xlink:href=\"#mdf429872ed\" y=\"184.854713\"/>\r\n      </g>\r\n     </g>\r\n     <g id=\"text_7\">\r\n      <!-- 0 -->\r\n      <g transform=\"translate(21.942188 188.653931)scale(0.1 -0.1)\">\r\n       <use xlink:href=\"#DejaVuSans-48\"/>\r\n      </g>\r\n     </g>\r\n    </g>\r\n    <g id=\"ytick_3\">\r\n     <g id=\"line2d_8\">\r\n      <g>\r\n       <use style=\"stroke:#000000;stroke-width:0.8;\" x=\"35.304688\" xlink:href=\"#mdf429872ed\" y=\"148.382392\"/>\r\n      </g>\r\n     </g>\r\n     <g id=\"text_8\">\r\n      <!-- 50 -->\r\n      <g transform=\"translate(15.579688 152.181611)scale(0.1 -0.1)\">\r\n       <use xlink:href=\"#DejaVuSans-53\"/>\r\n       <use x=\"63.623047\" xlink:href=\"#DejaVuSans-48\"/>\r\n      </g>\r\n     </g>\r\n    </g>\r\n    <g id=\"ytick_4\">\r\n     <g id=\"line2d_9\">\r\n      <g>\r\n       <use style=\"stroke:#000000;stroke-width:0.8;\" x=\"35.304688\" xlink:href=\"#mdf429872ed\" y=\"111.910072\"/>\r\n      </g>\r\n     </g>\r\n     <g id=\"text_9\">\r\n      <!-- 100 -->\r\n      <g transform=\"translate(9.217188 115.709291)scale(0.1 -0.1)\">\r\n       <use xlink:href=\"#DejaVuSans-49\"/>\r\n       <use x=\"63.623047\" xlink:href=\"#DejaVuSans-48\"/>\r\n       <use x=\"127.246094\" xlink:href=\"#DejaVuSans-48\"/>\r\n      </g>\r\n     </g>\r\n    </g>\r\n    <g id=\"ytick_5\">\r\n     <g id=\"line2d_10\">\r\n      <g>\r\n       <use style=\"stroke:#000000;stroke-width:0.8;\" x=\"35.304688\" xlink:href=\"#mdf429872ed\" y=\"75.437752\"/>\r\n      </g>\r\n     </g>\r\n     <g id=\"text_10\">\r\n      <!-- 150 -->\r\n      <g transform=\"translate(9.217188 79.23697)scale(0.1 -0.1)\">\r\n       <use xlink:href=\"#DejaVuSans-49\"/>\r\n       <use x=\"63.623047\" xlink:href=\"#DejaVuSans-53\"/>\r\n       <use x=\"127.246094\" xlink:href=\"#DejaVuSans-48\"/>\r\n      </g>\r\n     </g>\r\n    </g>\r\n    <g id=\"ytick_6\">\r\n     <g id=\"line2d_11\">\r\n      <g>\r\n       <use style=\"stroke:#000000;stroke-width:0.8;\" x=\"35.304688\" xlink:href=\"#mdf429872ed\" y=\"38.965431\"/>\r\n      </g>\r\n     </g>\r\n     <g id=\"text_11\">\r\n      <!-- 200 -->\r\n      <g transform=\"translate(9.217188 42.76465)scale(0.1 -0.1)\">\r\n       <use xlink:href=\"#DejaVuSans-50\"/>\r\n       <use x=\"63.623047\" xlink:href=\"#DejaVuSans-48\"/>\r\n       <use x=\"127.246094\" xlink:href=\"#DejaVuSans-48\"/>\r\n      </g>\r\n     </g>\r\n    </g>\r\n   </g>\r\n   <g id=\"patch_3\">\r\n    <path d=\"M 35.304688 224.64 \r\nL 35.304688 7.2 \r\n\" style=\"fill:none;stroke:#000000;stroke-linecap:square;stroke-linejoin:miter;stroke-width:0.8;\"/>\r\n   </g>\r\n   <g id=\"patch_4\">\r\n    <path d=\"M 370.104688 224.64 \r\nL 370.104688 7.2 \r\n\" style=\"fill:none;stroke:#000000;stroke-linecap:square;stroke-linejoin:miter;stroke-width:0.8;\"/>\r\n   </g>\r\n   <g id=\"patch_5\">\r\n    <path d=\"M 35.304688 224.64 \r\nL 370.104687 224.64 \r\n\" style=\"fill:none;stroke:#000000;stroke-linecap:square;stroke-linejoin:miter;stroke-width:0.8;\"/>\r\n   </g>\r\n   <g id=\"patch_6\">\r\n    <path d=\"M 35.304688 7.2 \r\nL 370.104687 7.2 \r\n\" style=\"fill:none;stroke:#000000;stroke-linecap:square;stroke-linejoin:miter;stroke-width:0.8;\"/>\r\n   </g>\r\n  </g>\r\n </g>\r\n <defs>\r\n  <clipPath id=\"p75fb77f059\">\r\n   <rect height=\"217.44\" width=\"334.8\" x=\"35.304688\" y=\"7.2\"/>\r\n  </clipPath>\r\n </defs>\r\n</svg>\r\n",
      "image/png": "[encoded data removed]"
     },
     "metadata": {
      "needs_background": "light"
     }
    }
   ],
   "source": [
    "plt.scatter(x,y)"
   ]
  },
  {
   "cell_type": "code",
   "execution_count": 13,
   "metadata": {},
   "outputs": [
    {
     "output_type": "execute_result",
     "data": {
      "text/plain": "<matplotlib.collections.PathCollection at 0x1ed0ba23cc0>"
     },
     "metadata": {},
     "execution_count": 13
    },
    {
     "output_type": "display_data",
     "data": {
      "text/plain": "<Figure size 432x288 with 1 Axes>",
      "image/svg+xml": "<?xml version=\"1.0\" encoding=\"utf-8\" standalone=\"no\"?>\r\n<!DOCTYPE svg PUBLIC \"-//W3C//DTD SVG 1.1//EN\"\r\n  \"http://www.w3.org/Graphics/SVG/1.1/DTD/svg11.dtd\">\r\n<!-- Created with matplotlib (https://matplotlib.org/) -->\r\n<svg height=\"248.518125pt\" version=\"1.1\" viewBox=\"0 0 370.942187 248.518125\" width=\"370.942187pt\" xmlns=\"http://www.w3.org/2000/svg\" xmlns:xlink=\"http://www.w3.org/1999/xlink\">\r\n <defs>\r\n  <style type=\"text/css\">\r\n*{stroke-linecap:butt;stroke-linejoin:round;}\r\n  </style>\r\n </defs>\r\n <g id=\"figure_1\">\r\n  <g id=\"patch_1\">\r\n   <path d=\"M 0 248.518125 \r\nL 370.942187 248.518125 \r\nL 370.942187 0 \r\nL 0 0 \r\nz\r\n\" style=\"fill:none;\"/>\r\n  </g>\r\n  <g id=\"axes_1\">\r\n   <g id=\"patch_2\">\r\n    <path d=\"M 28.942188 224.64 \r\nL 363.742188 224.64 \r\nL 363.742188 7.2 \r\nL 28.942188 7.2 \r\nz\r\n\" style=\"fill:#ffffff;\"/>\r\n   </g>\r\n   <g id=\"PathCollection_1\">\r\n    <defs>\r\n     <path d=\"M 0 3 \r\nC 0.795609 3 1.55874 2.683901 2.12132 2.12132 \r\nC 2.683901 1.55874 3 0.795609 3 0 \r\nC 3 -0.795609 2.683901 -1.55874 2.12132 -2.12132 \r\nC 1.55874 -2.683901 0.795609 -3 0 -3 \r\nC -0.795609 -3 -1.55874 -2.683901 -2.12132 -2.12132 \r\nC -2.683901 -1.55874 -3 -0.795609 -3 0 \r\nC -3 0.795609 -2.683901 1.55874 -2.12132 2.12132 \r\nC -1.55874 2.683901 -0.795609 3 0 3 \r\nz\r\n\" id=\"m906bf1fc58\" style=\"stroke:#1f77b4;\"/>\r\n    </defs>\r\n    <g clip-path=\"url(#p1febfe73e1)\">\r\n     <use style=\"fill:#1f77b4;stroke:#1f77b4;\" x=\"116.116774\" xlink:href=\"#m906bf1fc58\" y=\"38.241786\"/>\r\n     <use style=\"fill:#1f77b4;stroke:#1f77b4;\" x=\"45.512591\" xlink:href=\"#m906bf1fc58\" y=\"153.668819\"/>\r\n     <use style=\"fill:#1f77b4;stroke:#1f77b4;\" x=\"213.586459\" xlink:href=\"#m906bf1fc58\" y=\"52.983178\"/>\r\n     <use style=\"fill:#1f77b4;stroke:#1f77b4;\" x=\"335.812735\" xlink:href=\"#m906bf1fc58\" y=\"213.407989\"/>\r\n     <use style=\"fill:#1f77b4;stroke:#1f77b4;\" x=\"276.076424\" xlink:href=\"#m906bf1fc58\" y=\"199.833661\"/>\r\n     <use style=\"fill:#1f77b4;stroke:#1f77b4;\" x=\"314.227716\" xlink:href=\"#m906bf1fc58\" y=\"99.529553\"/>\r\n     <use style=\"fill:#1f77b4;stroke:#1f77b4;\" x=\"238.260741\" xlink:href=\"#m906bf1fc58\" y=\"112.954605\"/>\r\n     <use style=\"fill:#1f77b4;stroke:#1f77b4;\" x=\"91.874766\" xlink:href=\"#m906bf1fc58\" y=\"135.800025\"/>\r\n     <use style=\"fill:#1f77b4;stroke:#1f77b4;\" x=\"45.529156\" xlink:href=\"#m906bf1fc58\" y=\"152.96334\"/>\r\n     <use style=\"fill:#1f77b4;stroke:#1f77b4;\" x=\"334.440944\" xlink:href=\"#m906bf1fc58\" y=\"93.876873\"/>\r\n     <use style=\"fill:#1f77b4;stroke:#1f77b4;\" x=\"113.328365\" xlink:href=\"#m906bf1fc58\" y=\"131.821163\"/>\r\n     <use style=\"fill:#1f77b4;stroke:#1f77b4;\" x=\"316.329604\" xlink:href=\"#m906bf1fc58\" y=\"70.547268\"/>\r\n     <use style=\"fill:#1f77b4;stroke:#1f77b4;\" x=\"221.937625\" xlink:href=\"#m906bf1fc58\" y=\"115.37908\"/>\r\n     <use style=\"fill:#1f77b4;stroke:#1f77b4;\" x=\"298.522529\" xlink:href=\"#m906bf1fc58\" y=\"102.862106\"/>\r\n     <use style=\"fill:#1f77b4;stroke:#1f77b4;\" x=\"344.282376\" xlink:href=\"#m906bf1fc58\" y=\"89.177381\"/>\r\n     <use style=\"fill:#1f77b4;stroke:#1f77b4;\" x=\"46.140365\" xlink:href=\"#m906bf1fc58\" y=\"18.204621\"/>\r\n     <use style=\"fill:#1f77b4;stroke:#1f77b4;\" x=\"215.52213\" xlink:href=\"#m906bf1fc58\" y=\"53.265309\"/>\r\n     <use style=\"fill:#1f77b4;stroke:#1f77b4;\" x=\"86.272284\" xlink:href=\"#m906bf1fc58\" y=\"136.95382\"/>\r\n     <use style=\"fill:#1f77b4;stroke:#1f77b4;\" x=\"136.996746\" xlink:href=\"#m906bf1fc58\" y=\"41.656458\"/>\r\n     <use style=\"fill:#1f77b4;stroke:#1f77b4;\" x=\"210.006512\" xlink:href=\"#m906bf1fc58\" y=\"52.46245\"/>\r\n     <use style=\"fill:#1f77b4;stroke:#1f77b4;\" x=\"327.860374\" xlink:href=\"#m906bf1fc58\" y=\"210.778349\"/>\r\n     <use style=\"fill:#1f77b4;stroke:#1f77b4;\" x=\"329.572737\" xlink:href=\"#m906bf1fc58\" y=\"74.096196\"/>\r\n     <use style=\"fill:#1f77b4;stroke:#1f77b4;\" x=\"240.095804\" xlink:href=\"#m906bf1fc58\" y=\"56.905357\"/>\r\n     <use style=\"fill:#1f77b4;stroke:#1f77b4;\" x=\"315.875261\" xlink:href=\"#m906bf1fc58\" y=\"70.43932\"/>\r\n     <use style=\"fill:#1f77b4;stroke:#1f77b4;\" x=\"335.39054\" xlink:href=\"#m906bf1fc58\" y=\"76.052389\"/>\r\n     <use style=\"fill:#1f77b4;stroke:#1f77b4;\" x=\"253.197908\" xlink:href=\"#m906bf1fc58\" y=\"110.666256\"/>\r\n     <use style=\"fill:#1f77b4;stroke:#1f77b4;\" x=\"254.389205\" xlink:href=\"#m906bf1fc58\" y=\"196.300656\"/>\r\n     <use style=\"fill:#1f77b4;stroke:#1f77b4;\" x=\"57.363806\" xlink:href=\"#m906bf1fc58\" y=\"24.908839\"/>\r\n     <use style=\"fill:#1f77b4;stroke:#1f77b4;\" x=\"77.10047\" xlink:href=\"#m906bf1fc58\" y=\"139.000389\"/>\r\n     <use style=\"fill:#1f77b4;stroke:#1f77b4;\" x=\"127.537212\" xlink:href=\"#m906bf1fc58\" y=\"177.341275\"/>\r\n     <use style=\"fill:#1f77b4;stroke:#1f77b4;\" x=\"330.472687\" xlink:href=\"#m906bf1fc58\" y=\"74.376365\"/>\r\n     <use style=\"fill:#1f77b4;stroke:#1f77b4;\" x=\"45.725144\" xlink:href=\"#m906bf1fc58\" y=\"17.384901\"/>\r\n     <use style=\"fill:#1f77b4;stroke:#1f77b4;\" x=\"84.206146\" xlink:href=\"#m906bf1fc58\" y=\"169.384598\"/>\r\n     <use style=\"fill:#1f77b4;stroke:#1f77b4;\" x=\"347.171784\" xlink:href=\"#m906bf1fc58\" y=\"83.836077\"/>\r\n     <use style=\"fill:#1f77b4;stroke:#1f77b4;\" x=\"317.658981\" xlink:href=\"#m906bf1fc58\" y=\"98.715866\"/>\r\n     <use style=\"fill:#1f77b4;stroke:#1f77b4;\" x=\"330.435907\" xlink:href=\"#m906bf1fc58\" y=\"74.364779\"/>\r\n     <use style=\"fill:#1f77b4;stroke:#1f77b4;\" x=\"71.051909\" xlink:href=\"#m906bf1fc58\" y=\"29.08604\"/>\r\n     <use style=\"fill:#1f77b4;stroke:#1f77b4;\" x=\"47.782562\" xlink:href=\"#m906bf1fc58\" y=\"149.587888\"/>\r\n     <use style=\"fill:#1f77b4;stroke:#1f77b4;\" x=\"86.108718\" xlink:href=\"#m906bf1fc58\" y=\"169.792066\"/>\r\n     <use style=\"fill:#1f77b4;stroke:#1f77b4;\" x=\"76.421125\" xlink:href=\"#m906bf1fc58\" y=\"139.16169\"/>\r\n     <use style=\"fill:#1f77b4;stroke:#1f77b4;\" x=\"306.567155\" xlink:href=\"#m906bf1fc58\" y=\"68.35994\"/>\r\n     <use style=\"fill:#1f77b4;stroke:#1f77b4;\" x=\"325.764208\" xlink:href=\"#m906bf1fc58\" y=\"72.978037\"/>\r\n     <use style=\"fill:#1f77b4;stroke:#1f77b4;\" x=\"79.626639\" xlink:href=\"#m906bf1fc58\" y=\"138.413561\"/>\r\n     <use style=\"fill:#1f77b4;stroke:#1f77b4;\" x=\"46.255619\" xlink:href=\"#m906bf1fc58\" y=\"18.378401\"/>\r\n     <use style=\"fill:#1f77b4;stroke:#1f77b4;\" x=\"128.530964\" xlink:href=\"#m906bf1fc58\" y=\"129.277963\"/>\r\n     <use style=\"fill:#1f77b4;stroke:#1f77b4;\" x=\"56.347756\" xlink:href=\"#m906bf1fc58\" y=\"145.060647\"/>\r\n     <use style=\"fill:#1f77b4;stroke:#1f77b4;\" x=\"335.113683\" xlink:href=\"#m906bf1fc58\" y=\"75.950138\"/>\r\n     <use style=\"fill:#1f77b4;stroke:#1f77b4;\" x=\"303.992442\" xlink:href=\"#m906bf1fc58\" y=\"205.01934\"/>\r\n     <use style=\"fill:#1f77b4;stroke:#1f77b4;\" x=\"72.97535\" xlink:href=\"#m906bf1fc58\" y=\"140.00537\"/>\r\n     <use style=\"fill:#1f77b4;stroke:#1f77b4;\" x=\"280.191904\" xlink:href=\"#m906bf1fc58\" y=\"63.344636\"/>\r\n     <use style=\"fill:#1f77b4;stroke:#1f77b4;\" x=\"287.299437\" xlink:href=\"#m906bf1fc58\" y=\"64.606163\"/>\r\n     <use style=\"fill:#1f77b4;stroke:#1f77b4;\" x=\"61.610279\" xlink:href=\"#m906bf1fc58\" y=\"163.571818\"/>\r\n     <use style=\"fill:#1f77b4;stroke:#1f77b4;\" x=\"164.124474\" xlink:href=\"#m906bf1fc58\" y=\"182.981936\"/>\r\n     <use style=\"fill:#1f77b4;stroke:#1f77b4;\" x=\"156.017748\" xlink:href=\"#m906bf1fc58\" y=\"125.007346\"/>\r\n     <use style=\"fill:#1f77b4;stroke:#1f77b4;\" x=\"45.514849\" xlink:href=\"#m906bf1fc58\" y=\"153.08719\"/>\r\n     <use style=\"fill:#1f77b4;stroke:#1f77b4;\" x=\"317.312938\" xlink:href=\"#m906bf1fc58\" y=\"70.783329\"/>\r\n     <use style=\"fill:#1f77b4;stroke:#1f77b4;\" x=\"164.729214\" xlink:href=\"#m906bf1fc58\" y=\"183.071473\"/>\r\n     <use style=\"fill:#1f77b4;stroke:#1f77b4;\" x=\"45.533619\" xlink:href=\"#m906bf1fc58\" y=\"153.849041\"/>\r\n     <use style=\"fill:#1f77b4;stroke:#1f77b4;\" x=\"180.939689\" xlink:href=\"#m906bf1fc58\" y=\"48.25001\"/>\r\n     <use style=\"fill:#1f77b4;stroke:#1f77b4;\" x=\"329.791531\" xlink:href=\"#m906bf1fc58\" y=\"95.419397\"/>\r\n     <use style=\"fill:#1f77b4;stroke:#1f77b4;\" x=\"125.462221\" xlink:href=\"#m906bf1fc58\" y=\"39.805028\"/>\r\n     <use style=\"fill:#1f77b4;stroke:#1f77b4;\" x=\"49.170009\" xlink:href=\"#m906bf1fc58\" y=\"21.018113\"/>\r\n     <use style=\"fill:#1f77b4;stroke:#1f77b4;\" x=\"191.324235\" xlink:href=\"#m906bf1fc58\" y=\"49.756403\"/>\r\n     <use style=\"fill:#1f77b4;stroke:#1f77b4;\" x=\"176.331476\" xlink:href=\"#m906bf1fc58\" y=\"184.775977\"/>\r\n     <use style=\"fill:#1f77b4;stroke:#1f77b4;\" x=\"331.976034\" xlink:href=\"#m906bf1fc58\" y=\"94.722474\"/>\r\n     <use style=\"fill:#1f77b4;stroke:#1f77b4;\" x=\"162.71495\" xlink:href=\"#m906bf1fc58\" y=\"124.007607\"/>\r\n     <use style=\"fill:#1f77b4;stroke:#1f77b4;\" x=\"77.888881\" xlink:href=\"#m906bf1fc58\" y=\"138.815099\"/>\r\n     <use style=\"fill:#1f77b4;stroke:#1f77b4;\" x=\"310.958883\" xlink:href=\"#m906bf1fc58\" y=\"69.312165\"/>\r\n     <use style=\"fill:#1f77b4;stroke:#1f77b4;\" x=\"206.924632\" xlink:href=\"#m906bf1fc58\" y=\"52.015078\"/>\r\n     <use style=\"fill:#1f77b4;stroke:#1f77b4;\" x=\"345.481261\" xlink:href=\"#m906bf1fc58\" y=\"81.382905\"/>\r\n     <use style=\"fill:#1f77b4;stroke:#1f77b4;\" x=\"234.940092\" xlink:href=\"#m906bf1fc58\" y=\"193.32743\"/>\r\n     <use style=\"fill:#1f77b4;stroke:#1f77b4;\" x=\"338.637914\" xlink:href=\"#m906bf1fc58\" y=\"77.350282\"/>\r\n     <use style=\"fill:#1f77b4;stroke:#1f77b4;\" x=\"324.7025\" xlink:href=\"#m906bf1fc58\" y=\"209.880505\"/>\r\n     <use style=\"fill:#1f77b4;stroke:#1f77b4;\" x=\"159.799761\" xlink:href=\"#m906bf1fc58\" y=\"182.339176\"/>\r\n     <use style=\"fill:#1f77b4;stroke:#1f77b4;\" x=\"81.847674\" xlink:href=\"#m906bf1fc58\" y=\"31.66997\"/>\r\n     <use style=\"fill:#1f77b4;stroke:#1f77b4;\" x=\"78.726278\" xlink:href=\"#m906bf1fc58\" y=\"138.620456\"/>\r\n     <use style=\"fill:#1f77b4;stroke:#1f77b4;\" x=\"222.412306\" xlink:href=\"#m906bf1fc58\" y=\"191.471164\"/>\r\n     <use style=\"fill:#1f77b4;stroke:#1f77b4;\" x=\"345.683827\" xlink:href=\"#m906bf1fc58\" y=\"81.576909\"/>\r\n     <use style=\"fill:#1f77b4;stroke:#1f77b4;\" x=\"200.927463\" xlink:href=\"#m906bf1fc58\" y=\"188.343634\"/>\r\n     <use style=\"fill:#1f77b4;stroke:#1f77b4;\" x=\"345.042601\" xlink:href=\"#m906bf1fc58\" y=\"88.586716\"/>\r\n     <use style=\"fill:#1f77b4;stroke:#1f77b4;\" x=\"88.089298\" xlink:href=\"#m906bf1fc58\" y=\"170.207765\"/>\r\n     <use style=\"fill:#1f77b4;stroke:#1f77b4;\" x=\"335.986997\" xlink:href=\"#m906bf1fc58\" y=\"213.474075\"/>\r\n     <use style=\"fill:#1f77b4;stroke:#1f77b4;\" x=\"56.776565\" xlink:href=\"#m906bf1fc58\" y=\"24.687545\"/>\r\n     <use style=\"fill:#1f77b4;stroke:#1f77b4;\" x=\"318.867302\" xlink:href=\"#m906bf1fc58\" y=\"208.361073\"/>\r\n     <use style=\"fill:#1f77b4;stroke:#1f77b4;\" x=\"214.767172\" xlink:href=\"#m906bf1fc58\" y=\"116.427863\"/>\r\n     <use style=\"fill:#1f77b4;stroke:#1f77b4;\" x=\"45.92513\" xlink:href=\"#m906bf1fc58\" y=\"151.75146\"/>\r\n     <use style=\"fill:#1f77b4;stroke:#1f77b4;\" x=\"347.019325\" xlink:href=\"#m906bf1fc58\" y=\"86.161495\"/>\r\n     <use style=\"fill:#1f77b4;stroke:#1f77b4;\" x=\"180.658293\" xlink:href=\"#m906bf1fc58\" y=\"48.209074\"/>\r\n     <use style=\"fill:#1f77b4;stroke:#1f77b4;\" x=\"321.646014\" xlink:href=\"#m906bf1fc58\" y=\"97.715564\"/>\r\n     <use style=\"fill:#1f77b4;stroke:#1f77b4;\" x=\"306.946565\" xlink:href=\"#m906bf1fc58\" y=\"101.14266\"/>\r\n     <use style=\"fill:#1f77b4;stroke:#1f77b4;\" x=\"264.454361\" xlink:href=\"#m906bf1fc58\" y=\"197.904043\"/>\r\n     <use style=\"fill:#1f77b4;stroke:#1f77b4;\" x=\"334.649129\" xlink:href=\"#m906bf1fc58\" y=\"75.781029\"/>\r\n     <use style=\"fill:#1f77b4;stroke:#1f77b4;\" x=\"143.700926\" xlink:href=\"#m906bf1fc58\" y=\"179.898889\"/>\r\n     <use style=\"fill:#1f77b4;stroke:#1f77b4;\" x=\"182.727444\" xlink:href=\"#m906bf1fc58\" y=\"121.073176\"/>\r\n     <use style=\"fill:#1f77b4;stroke:#1f77b4;\" x=\"338.422656\" xlink:href=\"#m906bf1fc58\" y=\"214.455099\"/>\r\n     <use style=\"fill:#1f77b4;stroke:#1f77b4;\" x=\"47.649823\" xlink:href=\"#m906bf1fc58\" y=\"157.080144\"/>\r\n     <use style=\"fill:#1f77b4;stroke:#1f77b4;\" x=\"154.720201\" xlink:href=\"#m906bf1fc58\" y=\"44.380633\"/>\r\n     <use style=\"fill:#1f77b4;stroke:#1f77b4;\" x=\"275.419034\" xlink:href=\"#m906bf1fc58\" y=\"107.058698\"/>\r\n     <use style=\"fill:#1f77b4;stroke:#1f77b4;\" x=\"260.71472\" xlink:href=\"#m906bf1fc58\" y=\"109.478612\"/>\r\n     <use style=\"fill:#1f77b4;stroke:#1f77b4;\" x=\"53.403757\" xlink:href=\"#m906bf1fc58\" y=\"146.292085\"/>\r\n    </g>\r\n   </g>\r\n   <g id=\"matplotlib.axis_1\">\r\n    <g id=\"xtick_1\">\r\n     <g id=\"line2d_1\">\r\n      <defs>\r\n       <path d=\"M 0 0 \r\nL 0 3.5 \r\n\" id=\"md77d8995d1\" style=\"stroke:#000000;stroke-width:0.8;\"/>\r\n      </defs>\r\n      <g>\r\n       <use style=\"stroke:#000000;stroke-width:0.8;\" x=\"45.500312\" xlink:href=\"#md77d8995d1\" y=\"224.64\"/>\r\n      </g>\r\n     </g>\r\n     <g id=\"text_1\">\r\n      <!-- −1.00 -->\r\n      <defs>\r\n       <path d=\"M 10.59375 35.5 \r\nL 73.1875 35.5 \r\nL 73.1875 27.203125 \r\nL 10.59375 27.203125 \r\nz\r\n\" id=\"DejaVuSans-8722\"/>\r\n       <path d=\"M 12.40625 8.296875 \r\nL 28.515625 8.296875 \r\nL 28.515625 63.921875 \r\nL 10.984375 60.40625 \r\nL 10.984375 69.390625 \r\nL 28.421875 72.90625 \r\nL 38.28125 72.90625 \r\nL 38.28125 8.296875 \r\nL 54.390625 8.296875 \r\nL 54.390625 0 \r\nL 12.40625 0 \r\nz\r\n\" id=\"DejaVuSans-49\"/>\r\n       <path d=\"M 10.6875 12.40625 \r\nL 21 12.40625 \r\nL 21 0 \r\nL 10.6875 0 \r\nz\r\n\" id=\"DejaVuSans-46\"/>\r\n       <path d=\"M 31.78125 66.40625 \r\nQ 24.171875 66.40625 20.328125 58.90625 \r\nQ 16.5 51.421875 16.5 36.375 \r\nQ 16.5 21.390625 20.328125 13.890625 \r\nQ 24.171875 6.390625 31.78125 6.390625 \r\nQ 39.453125 6.390625 43.28125 13.890625 \r\nQ 47.125 21.390625 47.125 36.375 \r\nQ 47.125 51.421875 43.28125 58.90625 \r\nQ 39.453125 66.40625 31.78125 66.40625 \r\nz\r\nM 31.78125 74.21875 \r\nQ 44.046875 74.21875 50.515625 64.515625 \r\nQ 56.984375 54.828125 56.984375 36.375 \r\nQ 56.984375 17.96875 50.515625 8.265625 \r\nQ 44.046875 -1.421875 31.78125 -1.421875 \r\nQ 19.53125 -1.421875 13.0625 8.265625 \r\nQ 6.59375 17.96875 6.59375 36.375 \r\nQ 6.59375 54.828125 13.0625 64.515625 \r\nQ 19.53125 74.21875 31.78125 74.21875 \r\nz\r\n\" id=\"DejaVuSans-48\"/>\r\n      </defs>\r\n      <g transform=\"translate(30.177656 239.238437)scale(0.1 -0.1)\">\r\n       <use xlink:href=\"#DejaVuSans-8722\"/>\r\n       <use x=\"83.789062\" xlink:href=\"#DejaVuSans-49\"/>\r\n       <use x=\"147.412109\" xlink:href=\"#DejaVuSans-46\"/>\r\n       <use x=\"179.199219\" xlink:href=\"#DejaVuSans-48\"/>\r\n       <use x=\"242.822266\" xlink:href=\"#DejaVuSans-48\"/>\r\n      </g>\r\n     </g>\r\n    </g>\r\n    <g id=\"xtick_2\">\r\n     <g id=\"line2d_2\">\r\n      <g>\r\n       <use style=\"stroke:#000000;stroke-width:0.8;\" x=\"83.227302\" xlink:href=\"#md77d8995d1\" y=\"224.64\"/>\r\n      </g>\r\n     </g>\r\n     <g id=\"text_2\">\r\n      <!-- −0.75 -->\r\n      <defs>\r\n       <path d=\"M 8.203125 72.90625 \r\nL 55.078125 72.90625 \r\nL 55.078125 68.703125 \r\nL 28.609375 0 \r\nL 18.3125 0 \r\nL 43.21875 64.59375 \r\nL 8.203125 64.59375 \r\nz\r\n\" id=\"DejaVuSans-55\"/>\r\n       <path d=\"M 10.796875 72.90625 \r\nL 49.515625 72.90625 \r\nL 49.515625 64.59375 \r\nL 19.828125 64.59375 \r\nL 19.828125 46.734375 \r\nQ 21.96875 47.46875 24.109375 47.828125 \r\nQ 26.265625 48.1875 28.421875 48.1875 \r\nQ 40.625 48.1875 47.75 41.5 \r\nQ 54.890625 34.8125 54.890625 23.390625 \r\nQ 54.890625 11.625 47.5625 5.09375 \r\nQ 40.234375 -1.421875 26.90625 -1.421875 \r\nQ 22.3125 -1.421875 17.546875 -0.640625 \r\nQ 12.796875 0.140625 7.71875 1.703125 \r\nL 7.71875 11.625 \r\nQ 12.109375 9.234375 16.796875 8.0625 \r\nQ 21.484375 6.890625 26.703125 6.890625 \r\nQ 35.15625 6.890625 40.078125 11.328125 \r\nQ 45.015625 15.765625 45.015625 23.390625 \r\nQ 45.015625 31 40.078125 35.4375 \r\nQ 35.15625 39.890625 26.703125 39.890625 \r\nQ 22.75 39.890625 18.8125 39.015625 \r\nQ 14.890625 38.140625 10.796875 36.28125 \r\nz\r\n\" id=\"DejaVuSans-53\"/>\r\n      </defs>\r\n      <g transform=\"translate(67.904646 239.238437)scale(0.1 -0.1)\">\r\n       <use xlink:href=\"#DejaVuSans-8722\"/>\r\n       <use x=\"83.789062\" xlink:href=\"#DejaVuSans-48\"/>\r\n       <use x=\"147.412109\" xlink:href=\"#DejaVuSans-46\"/>\r\n       <use x=\"179.199219\" xlink:href=\"#DejaVuSans-55\"/>\r\n       <use x=\"242.822266\" xlink:href=\"#DejaVuSans-53\"/>\r\n      </g>\r\n     </g>\r\n    </g>\r\n    <g id=\"xtick_3\">\r\n     <g id=\"line2d_3\">\r\n      <g>\r\n       <use style=\"stroke:#000000;stroke-width:0.8;\" x=\"120.954292\" xlink:href=\"#md77d8995d1\" y=\"224.64\"/>\r\n      </g>\r\n     </g>\r\n     <g id=\"text_3\">\r\n      <!-- −0.50 -->\r\n      <g transform=\"translate(105.631636 239.238437)scale(0.1 -0.1)\">\r\n       <use xlink:href=\"#DejaVuSans-8722\"/>\r\n       <use x=\"83.789062\" xlink:href=\"#DejaVuSans-48\"/>\r\n       <use x=\"147.412109\" xlink:href=\"#DejaVuSans-46\"/>\r\n       <use x=\"179.199219\" xlink:href=\"#DejaVuSans-53\"/>\r\n       <use x=\"242.822266\" xlink:href=\"#DejaVuSans-48\"/>\r\n      </g>\r\n     </g>\r\n    </g>\r\n    <g id=\"xtick_4\">\r\n     <g id=\"line2d_4\">\r\n      <g>\r\n       <use style=\"stroke:#000000;stroke-width:0.8;\" x=\"158.681282\" xlink:href=\"#md77d8995d1\" y=\"224.64\"/>\r\n      </g>\r\n     </g>\r\n     <g id=\"text_4\">\r\n      <!-- −0.25 -->\r\n      <defs>\r\n       <path d=\"M 19.1875 8.296875 \r\nL 53.609375 8.296875 \r\nL 53.609375 0 \r\nL 7.328125 0 \r\nL 7.328125 8.296875 \r\nQ 12.9375 14.109375 22.625 23.890625 \r\nQ 32.328125 33.6875 34.8125 36.53125 \r\nQ 39.546875 41.84375 41.421875 45.53125 \r\nQ 43.3125 49.21875 43.3125 52.78125 \r\nQ 43.3125 58.59375 39.234375 62.25 \r\nQ 35.15625 65.921875 28.609375 65.921875 \r\nQ 23.96875 65.921875 18.8125 64.3125 \r\nQ 13.671875 62.703125 7.8125 59.421875 \r\nL 7.8125 69.390625 \r\nQ 13.765625 71.78125 18.9375 73 \r\nQ 24.125 74.21875 28.421875 74.21875 \r\nQ 39.75 74.21875 46.484375 68.546875 \r\nQ 53.21875 62.890625 53.21875 53.421875 \r\nQ 53.21875 48.921875 51.53125 44.890625 \r\nQ 49.859375 40.875 45.40625 35.40625 \r\nQ 44.1875 33.984375 37.640625 27.21875 \r\nQ 31.109375 20.453125 19.1875 8.296875 \r\nz\r\n\" id=\"DejaVuSans-50\"/>\r\n      </defs>\r\n      <g transform=\"translate(143.358626 239.238437)scale(0.1 -0.1)\">\r\n       <use xlink:href=\"#DejaVuSans-8722\"/>\r\n       <use x=\"83.789062\" xlink:href=\"#DejaVuSans-48\"/>\r\n       <use x=\"147.412109\" xlink:href=\"#DejaVuSans-46\"/>\r\n       <use x=\"179.199219\" xlink:href=\"#DejaVuSans-50\"/>\r\n       <use x=\"242.822266\" xlink:href=\"#DejaVuSans-53\"/>\r\n      </g>\r\n     </g>\r\n    </g>\r\n    <g id=\"xtick_5\">\r\n     <g id=\"line2d_5\">\r\n      <g>\r\n       <use style=\"stroke:#000000;stroke-width:0.8;\" x=\"196.408272\" xlink:href=\"#md77d8995d1\" y=\"224.64\"/>\r\n      </g>\r\n     </g>\r\n     <g id=\"text_5\">\r\n      <!-- 0.00 -->\r\n      <g transform=\"translate(185.275459 239.238437)scale(0.1 -0.1)\">\r\n       <use xlink:href=\"#DejaVuSans-48\"/>\r\n       <use x=\"63.623047\" xlink:href=\"#DejaVuSans-46\"/>\r\n       <use x=\"95.410156\" xlink:href=\"#DejaVuSans-48\"/>\r\n       <use x=\"159.033203\" xlink:href=\"#DejaVuSans-48\"/>\r\n      </g>\r\n     </g>\r\n    </g>\r\n    <g id=\"xtick_6\">\r\n     <g id=\"line2d_6\">\r\n      <g>\r\n       <use style=\"stroke:#000000;stroke-width:0.8;\" x=\"234.135261\" xlink:href=\"#md77d8995d1\" y=\"224.64\"/>\r\n      </g>\r\n     </g>\r\n     <g id=\"text_6\">\r\n      <!-- 0.25 -->\r\n      <g transform=\"translate(223.002449 239.238437)scale(0.1 -0.1)\">\r\n       <use xlink:href=\"#DejaVuSans-48\"/>\r\n       <use x=\"63.623047\" xlink:href=\"#DejaVuSans-46\"/>\r\n       <use x=\"95.410156\" xlink:href=\"#DejaVuSans-50\"/>\r\n       <use x=\"159.033203\" xlink:href=\"#DejaVuSans-53\"/>\r\n      </g>\r\n     </g>\r\n    </g>\r\n    <g id=\"xtick_7\">\r\n     <g id=\"line2d_7\">\r\n      <g>\r\n       <use style=\"stroke:#000000;stroke-width:0.8;\" x=\"271.862251\" xlink:href=\"#md77d8995d1\" y=\"224.64\"/>\r\n      </g>\r\n     </g>\r\n     <g id=\"text_7\">\r\n      <!-- 0.50 -->\r\n      <g transform=\"translate(260.729439 239.238437)scale(0.1 -0.1)\">\r\n       <use xlink:href=\"#DejaVuSans-48\"/>\r\n       <use x=\"63.623047\" xlink:href=\"#DejaVuSans-46\"/>\r\n       <use x=\"95.410156\" xlink:href=\"#DejaVuSans-53\"/>\r\n       <use x=\"159.033203\" xlink:href=\"#DejaVuSans-48\"/>\r\n      </g>\r\n     </g>\r\n    </g>\r\n    <g id=\"xtick_8\">\r\n     <g id=\"line2d_8\">\r\n      <g>\r\n       <use style=\"stroke:#000000;stroke-width:0.8;\" x=\"309.589241\" xlink:href=\"#md77d8995d1\" y=\"224.64\"/>\r\n      </g>\r\n     </g>\r\n     <g id=\"text_8\">\r\n      <!-- 0.75 -->\r\n      <g transform=\"translate(298.456429 239.238437)scale(0.1 -0.1)\">\r\n       <use xlink:href=\"#DejaVuSans-48\"/>\r\n       <use x=\"63.623047\" xlink:href=\"#DejaVuSans-46\"/>\r\n       <use x=\"95.410156\" xlink:href=\"#DejaVuSans-55\"/>\r\n       <use x=\"159.033203\" xlink:href=\"#DejaVuSans-53\"/>\r\n      </g>\r\n     </g>\r\n    </g>\r\n    <g id=\"xtick_9\">\r\n     <g id=\"line2d_9\">\r\n      <g>\r\n       <use style=\"stroke:#000000;stroke-width:0.8;\" x=\"347.316231\" xlink:href=\"#md77d8995d1\" y=\"224.64\"/>\r\n      </g>\r\n     </g>\r\n     <g id=\"text_9\">\r\n      <!-- 1.00 -->\r\n      <g transform=\"translate(336.183418 239.238437)scale(0.1 -0.1)\">\r\n       <use xlink:href=\"#DejaVuSans-49\"/>\r\n       <use x=\"63.623047\" xlink:href=\"#DejaVuSans-46\"/>\r\n       <use x=\"95.410156\" xlink:href=\"#DejaVuSans-48\"/>\r\n       <use x=\"159.033203\" xlink:href=\"#DejaVuSans-48\"/>\r\n      </g>\r\n     </g>\r\n    </g>\r\n   </g>\r\n   <g id=\"matplotlib.axis_2\">\r\n    <g id=\"ytick_1\">\r\n     <g id=\"line2d_10\">\r\n      <defs>\r\n       <path d=\"M 0 0 \r\nL -3.5 0 \r\n\" id=\"mde9eacc9e4\" style=\"stroke:#000000;stroke-width:0.8;\"/>\r\n      </defs>\r\n      <g>\r\n       <use style=\"stroke:#000000;stroke-width:0.8;\" x=\"28.942188\" xlink:href=\"#mde9eacc9e4\" y=\"206.433516\"/>\r\n      </g>\r\n     </g>\r\n     <g id=\"text_10\">\r\n      <!-- −4 -->\r\n      <defs>\r\n       <path d=\"M 37.796875 64.3125 \r\nL 12.890625 25.390625 \r\nL 37.796875 25.390625 \r\nz\r\nM 35.203125 72.90625 \r\nL 47.609375 72.90625 \r\nL 47.609375 25.390625 \r\nL 58.015625 25.390625 \r\nL 58.015625 17.1875 \r\nL 47.609375 17.1875 \r\nL 47.609375 0 \r\nL 37.796875 0 \r\nL 37.796875 17.1875 \r\nL 4.890625 17.1875 \r\nL 4.890625 26.703125 \r\nz\r\n\" id=\"DejaVuSans-52\"/>\r\n      </defs>\r\n      <g transform=\"translate(7.2 210.232735)scale(0.1 -0.1)\">\r\n       <use xlink:href=\"#DejaVuSans-8722\"/>\r\n       <use x=\"83.789062\" xlink:href=\"#DejaVuSans-52\"/>\r\n      </g>\r\n     </g>\r\n    </g>\r\n    <g id=\"ytick_2\">\r\n     <g id=\"line2d_11\">\r\n      <g>\r\n       <use style=\"stroke:#000000;stroke-width:0.8;\" x=\"28.942188\" xlink:href=\"#mde9eacc9e4\" y=\"162.76221\"/>\r\n      </g>\r\n     </g>\r\n     <g id=\"text_11\">\r\n      <!-- −2 -->\r\n      <g transform=\"translate(7.2 166.561429)scale(0.1 -0.1)\">\r\n       <use xlink:href=\"#DejaVuSans-8722\"/>\r\n       <use x=\"83.789062\" xlink:href=\"#DejaVuSans-50\"/>\r\n      </g>\r\n     </g>\r\n    </g>\r\n    <g id=\"ytick_3\">\r\n     <g id=\"line2d_12\">\r\n      <g>\r\n       <use style=\"stroke:#000000;stroke-width:0.8;\" x=\"28.942188\" xlink:href=\"#mde9eacc9e4\" y=\"119.090904\"/>\r\n      </g>\r\n     </g>\r\n     <g id=\"text_12\">\r\n      <!-- 0 -->\r\n      <g transform=\"translate(15.579688 122.890123)scale(0.1 -0.1)\">\r\n       <use xlink:href=\"#DejaVuSans-48\"/>\r\n      </g>\r\n     </g>\r\n    </g>\r\n    <g id=\"ytick_4\">\r\n     <g id=\"line2d_13\">\r\n      <g>\r\n       <use style=\"stroke:#000000;stroke-width:0.8;\" x=\"28.942188\" xlink:href=\"#mde9eacc9e4\" y=\"75.419598\"/>\r\n      </g>\r\n     </g>\r\n     <g id=\"text_13\">\r\n      <!-- 2 -->\r\n      <g transform=\"translate(15.579688 79.218817)scale(0.1 -0.1)\">\r\n       <use xlink:href=\"#DejaVuSans-50\"/>\r\n      </g>\r\n     </g>\r\n    </g>\r\n    <g id=\"ytick_5\">\r\n     <g id=\"line2d_14\">\r\n      <g>\r\n       <use style=\"stroke:#000000;stroke-width:0.8;\" x=\"28.942188\" xlink:href=\"#mde9eacc9e4\" y=\"31.748292\"/>\r\n      </g>\r\n     </g>\r\n     <g id=\"text_14\">\r\n      <!-- 4 -->\r\n      <g transform=\"translate(15.579688 35.547511)scale(0.1 -0.1)\">\r\n       <use xlink:href=\"#DejaVuSans-52\"/>\r\n      </g>\r\n     </g>\r\n    </g>\r\n   </g>\r\n   <g id=\"patch_3\">\r\n    <path d=\"M 28.942188 224.64 \r\nL 28.942188 7.2 \r\n\" style=\"fill:none;stroke:#000000;stroke-linecap:square;stroke-linejoin:miter;stroke-width:0.8;\"/>\r\n   </g>\r\n   <g id=\"patch_4\">\r\n    <path d=\"M 363.742188 224.64 \r\nL 363.742188 7.2 \r\n\" style=\"fill:none;stroke:#000000;stroke-linecap:square;stroke-linejoin:miter;stroke-width:0.8;\"/>\r\n   </g>\r\n   <g id=\"patch_5\">\r\n    <path d=\"M 28.942188 224.64 \r\nL 363.742188 224.64 \r\n\" style=\"fill:none;stroke:#000000;stroke-linecap:square;stroke-linejoin:miter;stroke-width:0.8;\"/>\r\n   </g>\r\n   <g id=\"patch_6\">\r\n    <path d=\"M 28.942188 7.2 \r\nL 363.742188 7.2 \r\n\" style=\"fill:none;stroke:#000000;stroke-linecap:square;stroke-linejoin:miter;stroke-width:0.8;\"/>\r\n   </g>\r\n  </g>\r\n </g>\r\n <defs>\r\n  <clipPath id=\"p1febfe73e1\">\r\n   <rect height=\"217.44\" width=\"334.8\" x=\"28.942188\" y=\"7.2\"/>\r\n  </clipPath>\r\n </defs>\r\n</svg>\r\n",
      "image/png": "[encoded data removed]"
     },
     "metadata": {
      "needs_background": "light"
     }
    }
   ],
   "source": [
    "data, color= make_s_curve(100, random_state=6)\n",
    "plt.scatter(data[:,0], color)"
   ]
  },
  {
   "cell_type": "code",
   "execution_count": 23,
   "metadata": {
    "tags": []
   },
   "outputs": [
    {
     "output_type": "stream",
     "name": "stdout",
     "text": "[51.79603469]\n111.65803223574108\n"
    }
   ],
   "source": [
    "model=LinearRegression()\n",
    "model.fit(x, y)\n",
    "print(model.coef_)\n",
    "print(model.intercept_)"
   ]
  },
  {
   "cell_type": "code",
   "execution_count": 30,
   "metadata": {
    "tags": []
   },
   "outputs": [
    {
     "output_type": "stream",
     "name": "stdout",
     "text": "61.50111018364299\n65.088642352744\n"
    }
   ],
   "source": [
    "predictions=model.predict(x)\n",
    "print(y[2])\n",
    "print(predictions[2])"
   ]
  },
  {
   "cell_type": "code",
   "execution_count": 27,
   "metadata": {
    "tags": []
   },
   "outputs": [
    {
     "output_type": "stream",
     "name": "stdout",
     "text": "[ 25.1660603  158.46790034  61.50111018 113.88680708 104.33340619\n  75.99321968 150.2504787  -40.97845539 187.51418426  75.04710932\n 110.10686532 217.40182735 101.73262577 229.98401368 222.84611614\n 118.68831563 104.11048321  76.34104841 157.44893837 228.10179885]\n"
    }
   ],
   "source": [
    "print(y)"
   ]
  },
  {
   "cell_type": "code",
   "execution_count": 82,
   "metadata": {},
   "outputs": [],
   "source": [
    "pairlist=[]\n",
    "for i in range(0,len(predictions)):\n",
    "    pairlist.append(f\"{x[i]},{predictions[i]}\")"
   ]
  },
  {
   "cell_type": "code",
   "execution_count": 195,
   "metadata": {},
   "outputs": [],
   "source": [
    "df=pd.DataFrame({\"X\": x_transform, \"Y\": y, \"Predicted Y\": predictions, \"Error\": predictions - y})[[\"X\", \"Y\",\"Predicted Y\", \"Error\"]]"
   ]
  },
  {
   "cell_type": "code",
   "execution_count": 196,
   "metadata": {
    "tags": []
   },
   "outputs": [
    {
     "output_type": "stream",
     "name": "stdout",
     "text": "['min y', -40.97845539478799, 'max y', 229.9840136770132, 'min x', -2.486780651627865, 'max x', 2.631280557263819, 'min error', -72.89343724256253, 'max error', 70.3428139661526]\n"
    }
   ],
   "source": [
    "df_range=[\"min y\", y.min(), \"max y\", y.max(), \"min x\", x.min(), \"max x\", x.max(), \"min error\", df[\"Error\"].min(), \"max error\", df[\"Error\"].max()]\n",
    "print(df_range)"
   ]
  },
  {
   "cell_type": "code",
   "execution_count": 196,
   "metadata": {},
   "outputs": [],
   "source": [
    "\n"
   ]
  },
  {
   "cell_type": "code",
   "execution_count": 197,
   "metadata": {},
   "outputs": [
    {
     "output_type": "execute_result",
     "data": {
      "text/plain": "20"
     },
     "metadata": {},
     "execution_count": 197
    }
   ],
   "source": [
    "len(x_transform)"
   ]
  },
  {
   "cell_type": "code",
   "execution_count": 198,
   "metadata": {},
   "outputs": [],
   "source": [
    "gss=pd.read_csv(\"GSS_1996.csv\", encoding=\"latin1\")"
   ]
  },
  {
   "cell_type": "code",
   "execution_count": 199,
   "metadata": {},
   "outputs": [],
   "source": [
    "#Clean the data\n",
    "##drop cases with no answer, not asked, and don't know on the DV\n",
    "badanswers=[\"NA\",\"IAP\",\"DK\"]\n",
    "for answer in badanswers:\n",
    "    dropindex = gss[ (gss['chnang7'] == answer)].index\n",
    "    gss.drop(dropindex , inplace=True)\n",
    "##drop cases with null values on the DV\n",
    "gss=gss[gss[\"chnang7\"].notna()]"
   ]
  },
  {
   "cell_type": "code",
   "execution_count": 200,
   "metadata": {},
   "outputs": [
    {
     "output_type": "execute_result",
     "data": {
      "text/plain": "array(['didnt', 'did'], dtype=object)"
     },
     "metadata": {},
     "execution_count": 200
    }
   ],
   "source": [
    "gss[\"chnang7\"].unique()"
   ]
  },
  {
   "cell_type": "code",
   "execution_count": 201,
   "metadata": {
    "tags": []
   },
   "outputs": [],
   "source": [
    "#Make DV a dummy variable called pray_anger\n",
    "pray_anger=[]\n",
    "for answer in gss[\"chnang7\"]:\n",
    "    if answer==\"didnt\":\n",
    "        pray_anger.append(0)\n",
    "    elif answer==\"did\":\n",
    "        pray_anger.append(1)\n",
    "    else:\n",
    "        print(\"Value Error: Please recode data to omit all values that are not 'did' or 'didn't'\")"
   ]
  },
  {
   "cell_type": "code",
   "execution_count": 202,
   "metadata": {},
   "outputs": [
    {
     "output_type": "execute_result",
     "data": {
      "text/plain": "array([[0],\n       [0],\n       [0],\n       ...,\n       [1],\n       [0],\n       [0]])"
     },
     "metadata": {},
     "execution_count": 202
    }
   ],
   "source": [
    "#Reshape the DV for sklearn\n",
    "DVpray_anger=np.array(pray_anger)\n",
    "DVpray_anger.reshape(-1,1)"
   ]
  },
  {
   "cell_type": "code",
   "execution_count": 219,
   "metadata": {
    "tags": []
   },
   "outputs": [],
   "source": [
    "#Recode the IVs\n",
    "###############\n",
    "##Sex (to dummy variable)\n",
    "sex=[]\n",
    "for answer in gss[\"sex\"]:\n",
    "    if answer==\"male\":\n",
    "        sex.append(0)\n",
    "    elif answer==\"female\":\n",
    "        sex.append(1)\n",
    "    else:\n",
    "        print(\"Sex Value Error\")\n",
    "##Race(To dummy variable)\n",
    "race=[]\n",
    "for answer in gss[\"race\"]:\n",
    "    if answer==\"white\":\n",
    "        race.append(0)\n",
    "    elif answer==\"black\":\n",
    "        race.append(1)\n",
    "    elif answer==\"other\":\n",
    "        race.append(1)\n",
    "    else:\n",
    "        print(\"Race value error.\")"
   ]
  },
  {
   "cell_type": "code",
   "execution_count": 220,
   "metadata": {
    "tags": []
   },
   "outputs": [
    {
     "output_type": "execute_result",
     "data": {
      "text/plain": "[0,\n 1,\n 1,\n 1,\n 0,\n 0,\n 1,\n 1,\n 0,\n 0,\n 0,\n 0,\n 1,\n 1,\n 0,\n 1,\n 0,\n 0,\n 0,\n 0,\n 0,\n 0,\n 0,\n 1,\n 1,\n 1,\n 0,\n 0,\n 0,\n 0,\n 0,\n 0,\n 1,\n 0,\n 0,\n 1,\n 1,\n 1,\n 1,\n 0,\n 0,\n 0,\n 0,\n 0,\n 0,\n 0,\n 0,\n 0,\n 1,\n 1,\n 1,\n 1,\n 0,\n 1,\n 1,\n 1,\n 0,\n 0,\n 0,\n 0,\n 0,\n 0,\n 1,\n 0,\n 1,\n 1,\n 1,\n 0,\n 1,\n 0,\n 0,\n 0,\n 0,\n 0,\n 0,\n 0,\n 0,\n 0,\n 0,\n 0,\n 0,\n 1,\n 0,\n 0,\n 0,\n 1,\n 0,\n 1,\n 1,\n 0,\n 0,\n 0,\n 0,\n 0,\n 0,\n 1,\n 0,\n 0,\n 0,\n 1,\n 0,\n 0,\n 1,\n 0,\n 1,\n 0,\n 1,\n 0,\n 0,\n 1,\n 0,\n 1,\n 0,\n 1,\n 1,\n 0,\n 0,\n 0,\n 0,\n 0,\n 0,\n 1,\n 1,\n 1,\n 1,\n 1,\n 1,\n 1,\n 0,\n 0,\n 0,\n 0,\n 1,\n 1,\n 0,\n 0,\n 0,\n 1,\n 1,\n 1,\n 1,\n 1,\n 0,\n 1,\n 1,\n 1,\n 1,\n 0,\n 0,\n 1,\n 0,\n 0,\n 0,\n 0,\n 0,\n 1,\n 0,\n 0,\n 1,\n 0,\n 0,\n 1,\n 0,\n 0,\n 0,\n 0,\n 0,\n 0,\n 0,\n 0,\n 0,\n 0,\n 1,\n 0,\n 0,\n 0,\n 0,\n 0,\n 0,\n 0,\n 0,\n 1,\n 1,\n 1,\n 1,\n 0,\n 0,\n 0,\n 0,\n 0,\n 0,\n 0,\n 0,\n 0,\n 0,\n 0,\n 0,\n 0,\n 0,\n 0,\n 0,\n 0,\n 0,\n 1,\n 1,\n 1,\n 0,\n 0,\n 0,\n 0,\n 0,\n 0,\n 0,\n 0,\n 0,\n 0,\n 0,\n 0,\n 0,\n 0,\n 0,\n 1,\n 0,\n 1,\n 0,\n 0,\n 0,\n 1,\n 0,\n 0,\n 1,\n 1,\n 1,\n 1,\n 1,\n 0,\n 0,\n 0,\n 1,\n 0,\n 0,\n 0,\n 0,\n 0,\n 0,\n 0,\n 0,\n 1,\n 0,\n 1,\n 1,\n 0,\n 0,\n 0,\n 0,\n 0,\n 0,\n 0,\n 0,\n 0,\n 0,\n 0,\n 1,\n 0,\n 0,\n 0,\n 0,\n 0,\n 0,\n 0,\n 0,\n 1,\n 1,\n 0,\n 0,\n 0,\n 0,\n 0,\n 0,\n 0,\n 0,\n 0,\n 0,\n 0,\n 0,\n 0,\n 0,\n 0,\n 0,\n 0,\n 0,\n 0,\n 0,\n 0,\n 0,\n 0,\n 0,\n 0,\n 0,\n 0,\n 0,\n 1,\n 1,\n 0,\n 0,\n 0,\n 1,\n 1,\n 0,\n 1,\n 1,\n 0,\n 0,\n 0,\n 0,\n 0,\n 0,\n 0,\n 0,\n 0,\n 0,\n 0,\n 0,\n 0,\n 0,\n 0,\n 0,\n 0,\n 0,\n 0,\n 0,\n 0,\n 0,\n 0,\n 0,\n 0,\n 0,\n 0,\n 0,\n 0,\n 0,\n 0,\n 0,\n 1,\n 1,\n 0,\n 0,\n 0,\n 0,\n 0,\n 0,\n 0,\n 0,\n 0,\n 1,\n 1,\n 0,\n 1,\n 1,\n 1,\n 1,\n 0,\n 0,\n 0,\n 0,\n 0,\n 0,\n 0,\n 0,\n 0,\n 0,\n 0,\n 0,\n 0,\n 0,\n 0,\n 0,\n 0,\n 0,\n 0,\n 0,\n 0,\n 0,\n 0,\n 0,\n 0,\n 0,\n 0,\n 0,\n 0,\n 0,\n 0,\n 0,\n 0,\n 0,\n 0,\n 0,\n 0,\n 0,\n 0,\n 0,\n 0,\n 0,\n 0,\n 0,\n 0,\n 0,\n 0,\n 0,\n 0,\n 0,\n 1,\n 0,\n 0,\n 0,\n 0,\n 0,\n 0,\n 0,\n 0,\n 0,\n 1,\n 0,\n 0,\n 0,\n 0,\n 0,\n 0,\n 1,\n 1,\n 1,\n 1,\n 0,\n 0,\n 0,\n 0,\n 0,\n 0,\n 0,\n 0,\n 0,\n 0,\n 0,\n 0,\n 0,\n 0,\n 0,\n 0,\n 0,\n 0,\n 0,\n 0,\n 0,\n 0,\n 0,\n 0,\n 0,\n 0,\n 0,\n 0,\n 0,\n 0,\n 0,\n 0,\n 0,\n 0,\n 0,\n 0,\n 0,\n 0,\n 0,\n 0,\n 0,\n 0,\n 0,\n 1,\n 1,\n 0,\n 0,\n 0,\n 0,\n 1,\n 0,\n 1,\n 1,\n 0,\n 0,\n 0,\n 0,\n 0,\n 0,\n 0,\n 0,\n 0,\n 0,\n 0,\n 1,\n 0,\n 0,\n 0,\n 0,\n 0,\n 0,\n 1,\n 0,\n 1,\n 0,\n 0,\n 0,\n 0,\n 0,\n 0,\n 0,\n 0,\n 0,\n 0,\n 0,\n 0,\n 0,\n 0,\n 0,\n 0,\n 0,\n 0,\n 0,\n 1,\n 0,\n 0,\n 0,\n 0,\n 0,\n 0,\n 0,\n 1,\n 0,\n 0,\n 0,\n 0,\n 0,\n 0,\n 0,\n 0,\n 0,\n 0,\n 0,\n 0,\n 0,\n 0,\n 0,\n 0,\n 0,\n 1,\n 1,\n 1,\n 1,\n 0,\n 0,\n 0,\n 0,\n 0,\n 0,\n 0,\n 0,\n 0,\n 1,\n 0,\n 0,\n 0,\n 0,\n 0,\n 0,\n 0,\n 0,\n 0,\n 0,\n 0,\n 0,\n 0,\n 0,\n 0,\n 0,\n 0,\n 0,\n 0,\n 0,\n 0,\n 0,\n 0,\n 0,\n 0,\n 0,\n 0,\n 0,\n 0,\n 0,\n 0,\n 0,\n 0,\n 0,\n 0,\n 0,\n 0,\n 0,\n 0,\n 0,\n 0,\n 0,\n 0,\n 0,\n 0,\n 0,\n 0,\n 0,\n 0,\n 0,\n 0,\n 0,\n 0,\n 0,\n 0,\n 0,\n 0,\n 0,\n 0,\n 0,\n 0,\n 0,\n 0,\n 0,\n 0,\n 0,\n 0,\n 0,\n 0,\n 0,\n 0,\n 0,\n 0,\n 1,\n 1,\n 0,\n 0,\n 0,\n 1,\n 0,\n 0,\n 0,\n 0,\n 0,\n 1,\n 0,\n 0,\n 1,\n 0,\n 0,\n 0,\n 1,\n 1,\n 1,\n 0,\n 1,\n 0,\n 0,\n 1,\n 0,\n 0,\n 0,\n 0,\n 1,\n 0,\n 0,\n 0,\n 0,\n 0,\n 1,\n 0,\n 0,\n 0,\n 1,\n 0,\n 1,\n 0,\n 0,\n 0,\n 0,\n 0,\n 0,\n 1,\n 0,\n 0,\n 1,\n 1,\n 1,\n 1,\n 1,\n 1,\n 0,\n 0,\n 0,\n 0,\n 0,\n 0,\n 0,\n 0,\n 0,\n 0,\n 0,\n 0,\n 0,\n 0,\n 0,\n 0,\n 0,\n 0,\n 0,\n 0,\n 0,\n 0,\n 0,\n 0,\n 0,\n 0,\n 0,\n 1,\n 0,\n 0,\n 0,\n 0,\n 1,\n 1,\n 0,\n 0,\n 1,\n 0,\n 0,\n 0,\n 0,\n 0,\n 0,\n 0,\n 0,\n 0,\n 0,\n 0,\n 1,\n 1,\n 0,\n 0,\n 0,\n 0,\n 1,\n 1,\n 1,\n 0,\n 0,\n 0,\n 1,\n 1,\n 1,\n 0,\n 0,\n 0,\n 0,\n 1,\n 1,\n 0,\n 0,\n 0,\n 0,\n 0,\n 0,\n 0,\n 0,\n 0,\n 0,\n 1,\n 0,\n 0,\n 0,\n 0,\n 0,\n 0,\n 0,\n 1,\n 0,\n 0,\n 0,\n 0,\n 0,\n 0,\n 0,\n 0,\n 0,\n 0,\n 0,\n 0,\n 0,\n 0,\n 0,\n 0,\n 0,\n 0,\n 0,\n 0,\n 0,\n 0,\n 0,\n 0,\n 0,\n 0,\n 0,\n 0,\n 0,\n 0,\n 0,\n 0,\n 0,\n 0,\n 0,\n 0,\n 0,\n 0,\n 0,\n 0,\n 0,\n 0,\n 0,\n 0,\n 0,\n 0,\n 0,\n 0,\n 0,\n 0,\n 0,\n 0,\n 1,\n 1,\n 1,\n 0,\n 0,\n 0,\n 0,\n 0,\n 0,\n 1,\n 0,\n 1,\n 1,\n 0,\n 0,\n 0,\n 0,\n 0,\n 0,\n 0,\n 1,\n 0,\n 0,\n 0,\n 0,\n 0,\n 0,\n 0,\n 0,\n 0,\n 0,\n 0,\n 0,\n 0,\n 0,\n 0,\n 0,\n 0,\n 0,\n 0,\n 0,\n 0,\n 0,\n 0,\n 0,\n 0,\n 0,\n 0,\n 0,\n 0,\n 0,\n 0,\n 0,\n 0,\n 0,\n 0,\n 0,\n 0,\n 0,\n 0,\n 0,\n 0,\n 0,\n 1,\n 0,\n 0,\n 0,\n 0,\n 0,\n 0,\n 0,\n 0,\n 0,\n 0,\n 0,\n 0,\n 0,\n 0,\n 0,\n 0,\n 0,\n 0,\n 1,\n 0,\n 0,\n 0,\n 0,\n 0,\n 0,\n 0,\n 0,\n 0,\n 0,\n 0,\n 1,\n 0,\n 0,\n 0,\n 0,\n 0,\n 0,\n 0,\n 0,\n 0,\n 0,\n 0,\n 0,\n 0,\n 0,\n 0,\n 0,\n 0,\n 0,\n 0,\n 0,\n 0,\n 1,\n 0,\n 0,\n 0,\n 0,\n 0,\n 0,\n 0,\n 0,\n 1,\n 0,\n 0,\n 0,\n 0,\n 0,\n 0,\n 0,\n 0,\n 0,\n 0,\n 0,\n 1,\n 1,\n 1,\n 0,\n 0,\n 0,\n 0,\n 0,\n 0,\n 0,\n 0,\n 0,\n 0,\n 0,\n 0,\n 0,\n 1,\n 1,\n 0,\n 0,\n 0,\n 1,\n 1,\n 1,\n 0,\n 0,\n 0,\n ...]"
     },
     "metadata": {},
     "execution_count": 220
    }
   ],
   "source": [
    "race"
   ]
  },
  {
   "cell_type": "code",
   "execution_count": null,
   "metadata": {},
   "outputs": [],
   "source": []
  }
 ]
}