{
 "metadata": {
  "language_info": {
   "codemirror_mode": {
    "name": "ipython",
    "version": 3
   },
   "file_extension": ".py",
   "mimetype": "text/x-python",
   "name": "python",
   "nbconvert_exporter": "python",
   "pygments_lexer": "ipython3",
   "version": "3.6.10-final"
  },
  "orig_nbformat": 2,
  "kernelspec": {
   "name": "python361064bitpythondatavizcondaed56fc30986a464784f8a472c80ebaf6",
   "display_name": "Python 3.6.10 64-bit ('PythonDataViz': conda)"
  }
 },
 "nbformat": 4,
 "nbformat_minor": 2,
 "cells": [
  {
   "cell_type": "code",
   "execution_count": 314,
   "metadata": {},
   "outputs": [],
   "source": [
    "import matplotlib.pyplot as plt\n",
    "import numpy as np\n",
    "import pandas as pd\n",
    "from sklearn.datasets import make_regression\n",
    "from sklearn.experimental import enable_iterative_imputer\n",
    "from sklearn.impute import IterativeImputer\n",
    "from sklearn.datasets import make_s_curve\n",
    "from sklearn.linear_model import LinearRegression\n",
    "from sklearn.datasets import make_regression\n",
    "from sklearn.metrics import mean_squared_error\n",
    "from sklearn.metrics import r2_score\n",
    "from sklearn.model_selection import train_test_split\n",
    "from sklearn.linear_model import LogisticRegression\n",
    "from sklearn.model_selection import train_test_split\n",
    "\n"
   ]
  },
  {
   "cell_type": "code",
   "execution_count": 198,
   "metadata": {},
   "outputs": [],
   "source": [
    "gss=pd.read_csv(\"GSS_1996.csv\", encoding=\"latin1\")"
   ]
  },
  {
   "cell_type": "code",
   "execution_count": 199,
   "metadata": {},
   "outputs": [],
   "source": [
    "#Clean the data\n",
    "##drop cases with no answer, not asked, and don't know on the DV\n",
    "badanswers=[\"NA\",\"IAP\",\"DK\"]\n",
    "for answer in badanswers:\n",
    "    dropindex = gss[ (gss['chnang7'] == answer)].index\n",
    "    gss.drop(dropindex , inplace=True)\n",
    "##drop cases with null values on the DV\n",
    "gss=gss[gss[\"chnang7\"].notna()]"
   ]
  },
  {
   "cell_type": "code",
   "execution_count": 200,
   "metadata": {},
   "outputs": [
    {
     "output_type": "execute_result",
     "data": {
      "text/plain": "array(['didnt', 'did'], dtype=object)"
     },
     "metadata": {},
     "execution_count": 200
    }
   ],
   "source": [
    "gss[\"chnang7\"].unique()"
   ]
  },
  {
   "cell_type": "code",
   "execution_count": 201,
   "metadata": {
    "tags": []
   },
   "outputs": [],
   "source": [
    "#Make DV a dummy variable called pray_anger\n",
    "pray_anger=[]\n",
    "for answer in gss[\"chnang7\"]:\n",
    "    if answer==\"didnt\":\n",
    "        pray_anger.append(0)\n",
    "    elif answer==\"did\":\n",
    "        pray_anger.append(1)\n",
    "    else:\n",
    "        print(\"Value Error: Please recode data to omit all values that are not 'did' or 'didn't'\")"
   ]
  },
  {
   "cell_type": "code",
   "execution_count": 202,
   "metadata": {},
   "outputs": [
    {
     "output_type": "execute_result",
     "data": {
      "text/plain": "array([[0],\n       [0],\n       [0],\n       ...,\n       [1],\n       [0],\n       [0]])"
     },
     "metadata": {},
     "execution_count": 202
    }
   ],
   "source": [
    "#Reshape the DV for sklearn\n",
    "DVpray_anger=np.array(pray_anger)\n",
    "DVpray_anger.reshape(-1,1)"
   ]
  },
  {
   "cell_type": "code",
   "execution_count": 298,
   "metadata": {},
   "outputs": [],
   "source": [
    "#Create Dataframe to Catch Missing Values\n",
    "df_missing=pd.DataFrame(columns=[\"Variable\",\"Row\"])"
   ]
  },
  {
   "cell_type": "code",
   "execution_count": 299,
   "metadata": {
    "tags": []
   },
   "outputs": [
    {
     "output_type": "stream",
     "name": "stdout",
     "text": "missing value on education at row 165\n"
    }
   ],
   "source": [
    "#################\n",
    "#Recoding the IVs\n",
    "#################\n",
    "\n",
    "#Making Dummies... almost.\n",
    "#We cannot recode dummy variables using the pandas get_dummies command because we want to preserve the missing data (coded .a) on each of the IVs. We are doing this so that we can multiply impute them later. Instead, we will manually loop through the data and document the location of missing values in a new dataframe.\n",
    "\n",
    "##Sex (to dummy variable)\n",
    "\n",
    "missingcounter=0\n",
    "sex=[]\n",
    "for answer in gss[\"sex\"]:\n",
    "    missingcounter+=1\n",
    "    if answer==\"male\":\n",
    "        sex.append(0)\n",
    "    elif answer==\"female\":\n",
    "        sex.append(1)\n",
    "    elif answer==\".a\":\n",
    "        race.append(answer)\n",
    "        print(f\"missing value on sex at row {missingcounter}\")\n",
    "        df_missing=df_missing.append({\"Variable\": \"sex\", \"Row\": missingcounter}, ignore_index=True)\n",
    "    else:\n",
    "        print(\"Sex value error: {answer}.\")\n",
    "\n",
    "##Race(To dummy variable)\n",
    "missingcounter=0\n",
    "race=[]\n",
    "for answer in gss[\"race\"]:\n",
    "    missingcounter+=1\n",
    "    if answer==\"white\":\n",
    "        race.append(0)\n",
    "    elif answer==\"black\" or answer==\"other\":\n",
    "        race.append(1)\n",
    "    elif answer==\".a\":\n",
    "        race.append(answer)\n",
    "        print(f\"missing value on race at row {missingcounter}\")\n",
    "        df_missing=df_missing.append({\"Variable\": \"race\", \"Row\": missingcounter}, ignore_index=True)\n",
    "    else:\n",
    "        print(\"Race value error: {answer}.\")\n",
    "##Education(To dummy variable with having degree as reference category)\n",
    "missingcounter=0\n",
    "education=[]\n",
    "for answer in gss[\"degree\"]:\n",
    "    missingcounter +=1\n",
    "    if answer ==\"bachelor\" or answer==\"graduate\":\n",
    "        education.append(0)\n",
    "    elif answer==\"lt high\" or answer ==\"high sch\" or answer==\"junior c\":\n",
    "        education.append(1)\n",
    "    elif answer==\".a\":\n",
    "        education.append(answer)\n",
    "        print(f\"missing value on education at row {missingcounter}\")\n",
    "        df_missing=df_missing.append({\"Variable\": \"education\", \"Row\": missingcounter}, ignore_index=True)\n",
    "    else:\n",
    "        print(f\"education value error: {answer}.\")\n",
    "missingcounter=0"
   ]
  }
 ]
}